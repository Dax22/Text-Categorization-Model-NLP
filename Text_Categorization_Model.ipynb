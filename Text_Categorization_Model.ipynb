{
  "nbformat": 4,
  "nbformat_minor": 0,
  "metadata": {
    "colab": {
      "provenance": []
    },
    "kernelspec": {
      "name": "python3",
      "display_name": "Python 3"
    },
    "language_info": {
      "name": "python"
    }
  },
  "cells": [
    {
      "cell_type": "code",
      "source": [
        "import numpy as np\n",
        "import matplotlib.pyplot as plt\n",
        "import seaborn as sns\n",
        "import pandas as pd\n",
        "import graphviz\n",
        "from sklearn.model_selection import train_test_split\n",
        "from sklearn.linear_model import LogisticRegression\n",
        "from sklearn.linear_model import SGDClassifier\n",
        "from sklearn.naive_bayes import MultinomialNB\n",
        "from sklearn.tree import DecisionTreeClassifier\n",
        "from sklearn.metrics import accuracy_score\n",
        "from sklearn.metrics import classification_report\n",
        "from sklearn.ensemble import RandomForestClassifier\n",
        "from sklearn.linear_model import LogisticRegression\n",
        "from sklearn.ensemble import RandomForestRegressor,AdaBoostClassifier\n",
        "from sklearn.linear_model import LogisticRegression\n",
        "from sklearn.tree import DecisionTreeClassifier\n",
        "from sklearn.feature_extraction.text import TfidfVectorizer\n",
        "from sklearn import metrics\n",
        "from sklearn.metrics import classification_report, accuracy_score\n",
        "import pandas as pd\n",
        "import seaborn as sns\n",
        "from matplotlib import pyplot as plt\n",
        "import regex as re\n"
      ],
      "metadata": {
        "id": "ToX4MBt85KBv"
      },
      "execution_count": 128,
      "outputs": []
    },
    {
      "cell_type": "markdown",
      "source": [
        "# Load Datasets"
      ],
      "metadata": {
        "id": "9hfYdiAXYUn_"
      }
    },
    {
      "cell_type": "code",
      "source": [
        "#loading Primary \n",
        "primary_data = pd.read_csv(\"/content/drive/MyDrive/Colab Notebooks/Merged files/merged-csv-files.csv\")\n",
        "primary_data.head(5)"
      ],
      "metadata": {
        "colab": {
          "base_uri": "https://localhost:8080/",
          "height": 206
        },
        "id": "jQd399L9qYfO",
        "outputId": "be4e64e0-e18d-4cd2-fc99-d3d3cf14c92a"
      },
      "execution_count": 129,
      "outputs": [
        {
          "output_type": "execute_result",
          "data": {
            "text/plain": [
              "                                                text max_freq_val\n",
              "0  \\n\\n\\n\\n\\n\\n\\n#CovidVaccine\\n#WaitForVaccine… ...       [True]\n",
              "1  CDC Updates School Guidelines For Students Ret...      [False]\n",
              "2  Who will get the first doses of a coronavirus ...       [True]\n",
              "3  CDC puts in place new guidelines on masks in s...      [False]\n",
              "4  People who are fully vaccinated can travel wit...       [True]"
            ],
            "text/html": [
              "\n",
              "  <div id=\"df-5e4aceae-dc8a-4cf4-9ec4-809ffff871f5\">\n",
              "    <div class=\"colab-df-container\">\n",
              "      <div>\n",
              "<style scoped>\n",
              "    .dataframe tbody tr th:only-of-type {\n",
              "        vertical-align: middle;\n",
              "    }\n",
              "\n",
              "    .dataframe tbody tr th {\n",
              "        vertical-align: top;\n",
              "    }\n",
              "\n",
              "    .dataframe thead th {\n",
              "        text-align: right;\n",
              "    }\n",
              "</style>\n",
              "<table border=\"1\" class=\"dataframe\">\n",
              "  <thead>\n",
              "    <tr style=\"text-align: right;\">\n",
              "      <th></th>\n",
              "      <th>text</th>\n",
              "      <th>max_freq_val</th>\n",
              "    </tr>\n",
              "  </thead>\n",
              "  <tbody>\n",
              "    <tr>\n",
              "      <th>0</th>\n",
              "      <td>\\n\\n\\n\\n\\n\\n\\n#CovidVaccine\\n#WaitForVaccine… ...</td>\n",
              "      <td>[True]</td>\n",
              "    </tr>\n",
              "    <tr>\n",
              "      <th>1</th>\n",
              "      <td>CDC Updates School Guidelines For Students Ret...</td>\n",
              "      <td>[False]</td>\n",
              "    </tr>\n",
              "    <tr>\n",
              "      <th>2</th>\n",
              "      <td>Who will get the first doses of a coronavirus ...</td>\n",
              "      <td>[True]</td>\n",
              "    </tr>\n",
              "    <tr>\n",
              "      <th>3</th>\n",
              "      <td>CDC puts in place new guidelines on masks in s...</td>\n",
              "      <td>[False]</td>\n",
              "    </tr>\n",
              "    <tr>\n",
              "      <th>4</th>\n",
              "      <td>People who are fully vaccinated can travel wit...</td>\n",
              "      <td>[True]</td>\n",
              "    </tr>\n",
              "  </tbody>\n",
              "</table>\n",
              "</div>\n",
              "      <button class=\"colab-df-convert\" onclick=\"convertToInteractive('df-5e4aceae-dc8a-4cf4-9ec4-809ffff871f5')\"\n",
              "              title=\"Convert this dataframe to an interactive table.\"\n",
              "              style=\"display:none;\">\n",
              "        \n",
              "  <svg xmlns=\"http://www.w3.org/2000/svg\" height=\"24px\"viewBox=\"0 0 24 24\"\n",
              "       width=\"24px\">\n",
              "    <path d=\"M0 0h24v24H0V0z\" fill=\"none\"/>\n",
              "    <path d=\"M18.56 5.44l.94 2.06.94-2.06 2.06-.94-2.06-.94-.94-2.06-.94 2.06-2.06.94zm-11 1L8.5 8.5l.94-2.06 2.06-.94-2.06-.94L8.5 2.5l-.94 2.06-2.06.94zm10 10l.94 2.06.94-2.06 2.06-.94-2.06-.94-.94-2.06-.94 2.06-2.06.94z\"/><path d=\"M17.41 7.96l-1.37-1.37c-.4-.4-.92-.59-1.43-.59-.52 0-1.04.2-1.43.59L10.3 9.45l-7.72 7.72c-.78.78-.78 2.05 0 2.83L4 21.41c.39.39.9.59 1.41.59.51 0 1.02-.2 1.41-.59l7.78-7.78 2.81-2.81c.8-.78.8-2.07 0-2.86zM5.41 20L4 18.59l7.72-7.72 1.47 1.35L5.41 20z\"/>\n",
              "  </svg>\n",
              "      </button>\n",
              "      \n",
              "  <style>\n",
              "    .colab-df-container {\n",
              "      display:flex;\n",
              "      flex-wrap:wrap;\n",
              "      gap: 12px;\n",
              "    }\n",
              "\n",
              "    .colab-df-convert {\n",
              "      background-color: #E8F0FE;\n",
              "      border: none;\n",
              "      border-radius: 50%;\n",
              "      cursor: pointer;\n",
              "      display: none;\n",
              "      fill: #1967D2;\n",
              "      height: 32px;\n",
              "      padding: 0 0 0 0;\n",
              "      width: 32px;\n",
              "    }\n",
              "\n",
              "    .colab-df-convert:hover {\n",
              "      background-color: #E2EBFA;\n",
              "      box-shadow: 0px 1px 2px rgba(60, 64, 67, 0.3), 0px 1px 3px 1px rgba(60, 64, 67, 0.15);\n",
              "      fill: #174EA6;\n",
              "    }\n",
              "\n",
              "    [theme=dark] .colab-df-convert {\n",
              "      background-color: #3B4455;\n",
              "      fill: #D2E3FC;\n",
              "    }\n",
              "\n",
              "    [theme=dark] .colab-df-convert:hover {\n",
              "      background-color: #434B5C;\n",
              "      box-shadow: 0px 1px 3px 1px rgba(0, 0, 0, 0.15);\n",
              "      filter: drop-shadow(0px 1px 2px rgba(0, 0, 0, 0.3));\n",
              "      fill: #FFFFFF;\n",
              "    }\n",
              "  </style>\n",
              "\n",
              "      <script>\n",
              "        const buttonEl =\n",
              "          document.querySelector('#df-5e4aceae-dc8a-4cf4-9ec4-809ffff871f5 button.colab-df-convert');\n",
              "        buttonEl.style.display =\n",
              "          google.colab.kernel.accessAllowed ? 'block' : 'none';\n",
              "\n",
              "        async function convertToInteractive(key) {\n",
              "          const element = document.querySelector('#df-5e4aceae-dc8a-4cf4-9ec4-809ffff871f5');\n",
              "          const dataTable =\n",
              "            await google.colab.kernel.invokeFunction('convertToInteractive',\n",
              "                                                     [key], {});\n",
              "          if (!dataTable) return;\n",
              "\n",
              "          const docLinkHtml = 'Like what you see? Visit the ' +\n",
              "            '<a target=\"_blank\" href=https://colab.research.google.com/notebooks/data_table.ipynb>data table notebook</a>'\n",
              "            + ' to learn more about interactive tables.';\n",
              "          element.innerHTML = '';\n",
              "          dataTable['output_type'] = 'display_data';\n",
              "          await google.colab.output.renderOutput(dataTable, element);\n",
              "          const docLink = document.createElement('div');\n",
              "          docLink.innerHTML = docLinkHtml;\n",
              "          element.appendChild(docLink);\n",
              "        }\n",
              "      </script>\n",
              "    </div>\n",
              "  </div>\n",
              "  "
            ]
          },
          "metadata": {},
          "execution_count": 129
        }
      ]
    },
    {
      "cell_type": "code",
      "source": [
        "#Loading Secondary Dataset\n",
        "secondary_data= pd.read_csv('/content/drive/MyDrive/Colab Notebooks/Merged files/Secondary_new.csv', encoding='cp1252')\n",
        "secondary_data.head(5)"
      ],
      "metadata": {
        "colab": {
          "base_uri": "https://localhost:8080/",
          "height": 206
        },
        "id": "gQWoAjxcEa1B",
        "outputId": "a66ad9e3-11f3-4a49-aed9-6726e0d7e060"
      },
      "execution_count": 130,
      "outputs": [
        {
          "output_type": "execute_result",
          "data": {
            "text/plain": [
              "                                                text max_freq_val\n",
              "0  What do you mean that the pandemic has stretch...      [False]\n",
              "1  I’m not sure if it qualifies as Big Brother wh...      [False]\n",
              "2  What if smallpox and polio came roaring back o...       [True]\n",
              "3  I'm continuing to wear a mask.  Even in bed, s...       [True]\n",
              "4  Although my husband and I really, really miss ...      [False]"
            ],
            "text/html": [
              "\n",
              "  <div id=\"df-69e86222-61a0-4ceb-bbcd-e640a44a4b2e\">\n",
              "    <div class=\"colab-df-container\">\n",
              "      <div>\n",
              "<style scoped>\n",
              "    .dataframe tbody tr th:only-of-type {\n",
              "        vertical-align: middle;\n",
              "    }\n",
              "\n",
              "    .dataframe tbody tr th {\n",
              "        vertical-align: top;\n",
              "    }\n",
              "\n",
              "    .dataframe thead th {\n",
              "        text-align: right;\n",
              "    }\n",
              "</style>\n",
              "<table border=\"1\" class=\"dataframe\">\n",
              "  <thead>\n",
              "    <tr style=\"text-align: right;\">\n",
              "      <th></th>\n",
              "      <th>text</th>\n",
              "      <th>max_freq_val</th>\n",
              "    </tr>\n",
              "  </thead>\n",
              "  <tbody>\n",
              "    <tr>\n",
              "      <th>0</th>\n",
              "      <td>What do you mean that the pandemic has stretch...</td>\n",
              "      <td>[False]</td>\n",
              "    </tr>\n",
              "    <tr>\n",
              "      <th>1</th>\n",
              "      <td>I’m not sure if it qualifies as Big Brother wh...</td>\n",
              "      <td>[False]</td>\n",
              "    </tr>\n",
              "    <tr>\n",
              "      <th>2</th>\n",
              "      <td>What if smallpox and polio came roaring back o...</td>\n",
              "      <td>[True]</td>\n",
              "    </tr>\n",
              "    <tr>\n",
              "      <th>3</th>\n",
              "      <td>I'm continuing to wear a mask.  Even in bed, s...</td>\n",
              "      <td>[True]</td>\n",
              "    </tr>\n",
              "    <tr>\n",
              "      <th>4</th>\n",
              "      <td>Although my husband and I really, really miss ...</td>\n",
              "      <td>[False]</td>\n",
              "    </tr>\n",
              "  </tbody>\n",
              "</table>\n",
              "</div>\n",
              "      <button class=\"colab-df-convert\" onclick=\"convertToInteractive('df-69e86222-61a0-4ceb-bbcd-e640a44a4b2e')\"\n",
              "              title=\"Convert this dataframe to an interactive table.\"\n",
              "              style=\"display:none;\">\n",
              "        \n",
              "  <svg xmlns=\"http://www.w3.org/2000/svg\" height=\"24px\"viewBox=\"0 0 24 24\"\n",
              "       width=\"24px\">\n",
              "    <path d=\"M0 0h24v24H0V0z\" fill=\"none\"/>\n",
              "    <path d=\"M18.56 5.44l.94 2.06.94-2.06 2.06-.94-2.06-.94-.94-2.06-.94 2.06-2.06.94zm-11 1L8.5 8.5l.94-2.06 2.06-.94-2.06-.94L8.5 2.5l-.94 2.06-2.06.94zm10 10l.94 2.06.94-2.06 2.06-.94-2.06-.94-.94-2.06-.94 2.06-2.06.94z\"/><path d=\"M17.41 7.96l-1.37-1.37c-.4-.4-.92-.59-1.43-.59-.52 0-1.04.2-1.43.59L10.3 9.45l-7.72 7.72c-.78.78-.78 2.05 0 2.83L4 21.41c.39.39.9.59 1.41.59.51 0 1.02-.2 1.41-.59l7.78-7.78 2.81-2.81c.8-.78.8-2.07 0-2.86zM5.41 20L4 18.59l7.72-7.72 1.47 1.35L5.41 20z\"/>\n",
              "  </svg>\n",
              "      </button>\n",
              "      \n",
              "  <style>\n",
              "    .colab-df-container {\n",
              "      display:flex;\n",
              "      flex-wrap:wrap;\n",
              "      gap: 12px;\n",
              "    }\n",
              "\n",
              "    .colab-df-convert {\n",
              "      background-color: #E8F0FE;\n",
              "      border: none;\n",
              "      border-radius: 50%;\n",
              "      cursor: pointer;\n",
              "      display: none;\n",
              "      fill: #1967D2;\n",
              "      height: 32px;\n",
              "      padding: 0 0 0 0;\n",
              "      width: 32px;\n",
              "    }\n",
              "\n",
              "    .colab-df-convert:hover {\n",
              "      background-color: #E2EBFA;\n",
              "      box-shadow: 0px 1px 2px rgba(60, 64, 67, 0.3), 0px 1px 3px 1px rgba(60, 64, 67, 0.15);\n",
              "      fill: #174EA6;\n",
              "    }\n",
              "\n",
              "    [theme=dark] .colab-df-convert {\n",
              "      background-color: #3B4455;\n",
              "      fill: #D2E3FC;\n",
              "    }\n",
              "\n",
              "    [theme=dark] .colab-df-convert:hover {\n",
              "      background-color: #434B5C;\n",
              "      box-shadow: 0px 1px 3px 1px rgba(0, 0, 0, 0.15);\n",
              "      filter: drop-shadow(0px 1px 2px rgba(0, 0, 0, 0.3));\n",
              "      fill: #FFFFFF;\n",
              "    }\n",
              "  </style>\n",
              "\n",
              "      <script>\n",
              "        const buttonEl =\n",
              "          document.querySelector('#df-69e86222-61a0-4ceb-bbcd-e640a44a4b2e button.colab-df-convert');\n",
              "        buttonEl.style.display =\n",
              "          google.colab.kernel.accessAllowed ? 'block' : 'none';\n",
              "\n",
              "        async function convertToInteractive(key) {\n",
              "          const element = document.querySelector('#df-69e86222-61a0-4ceb-bbcd-e640a44a4b2e');\n",
              "          const dataTable =\n",
              "            await google.colab.kernel.invokeFunction('convertToInteractive',\n",
              "                                                     [key], {});\n",
              "          if (!dataTable) return;\n",
              "\n",
              "          const docLinkHtml = 'Like what you see? Visit the ' +\n",
              "            '<a target=\"_blank\" href=https://colab.research.google.com/notebooks/data_table.ipynb>data table notebook</a>'\n",
              "            + ' to learn more about interactive tables.';\n",
              "          element.innerHTML = '';\n",
              "          dataTable['output_type'] = 'display_data';\n",
              "          await google.colab.output.renderOutput(dataTable, element);\n",
              "          const docLink = document.createElement('div');\n",
              "          docLink.innerHTML = docLinkHtml;\n",
              "          element.appendChild(docLink);\n",
              "        }\n",
              "      </script>\n",
              "    </div>\n",
              "  </div>\n",
              "  "
            ]
          },
          "metadata": {},
          "execution_count": 130
        }
      ]
    },
    {
      "cell_type": "code",
      "source": [
        "primary_data.columns"
      ],
      "metadata": {
        "colab": {
          "base_uri": "https://localhost:8080/"
        },
        "id": "z8Mt_0bXCAY_",
        "outputId": "c28d1a93-6e42-42a2-f17b-075ebdac074c"
      },
      "execution_count": 131,
      "outputs": [
        {
          "output_type": "execute_result",
          "data": {
            "text/plain": [
              "Index(['text', 'max_freq_val'], dtype='object')"
            ]
          },
          "metadata": {},
          "execution_count": 131
        }
      ]
    },
    {
      "cell_type": "code",
      "source": [
        "primary_data.size"
      ],
      "metadata": {
        "colab": {
          "base_uri": "https://localhost:8080/"
        },
        "id": "2co8yt0bA1B_",
        "outputId": "712d22a9-39bb-447e-c1a1-5026e83d2baa"
      },
      "execution_count": 132,
      "outputs": [
        {
          "output_type": "execute_result",
          "data": {
            "text/plain": [
              "3000"
            ]
          },
          "metadata": {},
          "execution_count": 132
        }
      ]
    },
    {
      "cell_type": "code",
      "source": [
        "primary_data['text'].apply(lambda X: len(X.split(' '))).sum()"
      ],
      "metadata": {
        "colab": {
          "base_uri": "https://localhost:8080/"
        },
        "id": "tj2ZKV4AB92u",
        "outputId": "62636daa-9898-440e-b258-adc54e2e6490"
      },
      "execution_count": 133,
      "outputs": [
        {
          "output_type": "execute_result",
          "data": {
            "text/plain": [
              "36270"
            ]
          },
          "metadata": {},
          "execution_count": 133
        }
      ]
    },
    {
      "cell_type": "code",
      "source": [
        "x=primary_data['max_freq_val'].value_counts()\n",
        "print(x)\n",
        "sns.barplot(x.index,x)\n"
      ],
      "metadata": {
        "colab": {
          "base_uri": "https://localhost:8080/",
          "height": 389
        },
        "id": "FI45z8XSCacX",
        "outputId": "b8ed2d12-4a7f-4447-e08f-5100177a348d"
      },
      "execution_count": 134,
      "outputs": [
        {
          "output_type": "stream",
          "name": "stdout",
          "text": [
            "[True]     910\n",
            "[False]    590\n",
            "Name: max_freq_val, dtype: int64\n"
          ]
        },
        {
          "output_type": "stream",
          "name": "stderr",
          "text": [
            "/usr/local/lib/python3.8/dist-packages/seaborn/_decorators.py:36: FutureWarning: Pass the following variables as keyword args: x, y. From version 0.12, the only valid positional argument will be `data`, and passing other arguments without an explicit keyword will result in an error or misinterpretation.\n",
            "  warnings.warn(\n"
          ]
        },
        {
          "output_type": "execute_result",
          "data": {
            "text/plain": [
              "<matplotlib.axes._subplots.AxesSubplot at 0x7f109b665fd0>"
            ]
          },
          "metadata": {},
          "execution_count": 134
        },
        {
          "output_type": "display_data",
          "data": {
            "text/plain": [
              "<Figure size 432x288 with 1 Axes>"
            ],
            "image/png": "[encoded data removed]"
          },
          "metadata": {
            "needs_background": "light"
          }
        }
      ]
    },
    {
      "cell_type": "code",
      "source": [
        "df_freq_val = ['[True]', '[False]']\n",
        "plt.figure(figsize=(10,4))\n",
        "primary_data.max_freq_val.value_counts().plot(kind='bar');\n"
      ],
      "metadata": {
        "colab": {
          "base_uri": "https://localhost:8080/",
          "height": 288
        },
        "id": "_dvFTVBRqtqr",
        "outputId": "456c79e3-17b6-4fb0-c9ed-c1b6ca7cb3a6"
      },
      "execution_count": 135,
      "outputs": [
        {
          "output_type": "display_data",
          "data": {
            "text/plain": [
              "<Figure size 720x288 with 1 Axes>"
            ],
            "image/png": "[encoded data removed]"
          },
          "metadata": {
            "needs_background": "light"
          }
        }
      ]
    },
    {
      "cell_type": "code",
      "source": [
        "x=secondary_data['max_freq_val'].value_counts()\n",
        "print(x)\n",
        "sns.barplot(x.index,x)"
      ],
      "metadata": {
        "colab": {
          "base_uri": "https://localhost:8080/",
          "height": 389
        },
        "id": "ly0RU2FOHBCv",
        "outputId": "b12ecb5c-0d9d-4478-da0d-c6bbf87cade8"
      },
      "execution_count": 136,
      "outputs": [
        {
          "output_type": "stream",
          "name": "stdout",
          "text": [
            "[True]     495\n",
            "[False]    405\n",
            "Name: max_freq_val, dtype: int64\n"
          ]
        },
        {
          "output_type": "stream",
          "name": "stderr",
          "text": [
            "/usr/local/lib/python3.8/dist-packages/seaborn/_decorators.py:36: FutureWarning: Pass the following variables as keyword args: x, y. From version 0.12, the only valid positional argument will be `data`, and passing other arguments without an explicit keyword will result in an error or misinterpretation.\n",
            "  warnings.warn(\n"
          ]
        },
        {
          "output_type": "execute_result",
          "data": {
            "text/plain": [
              "<matplotlib.axes._subplots.AxesSubplot at 0x7f109b3ff610>"
            ]
          },
          "metadata": {},
          "execution_count": 136
        },
        {
          "output_type": "display_data",
          "data": {
            "text/plain": [
              "<Figure size 432x288 with 1 Axes>"
            ],
            "image/png": "[encoded data removed]"
          },
          "metadata": {
            "needs_background": "light"
          }
        }
      ]
    },
    {
      "cell_type": "markdown",
      "source": [
        "# Cleaning Data (Removing URls from text),Punctuations , Stopwords etc"
      ],
      "metadata": {
        "id": "Ja2EUT2oFK9b"
      }
    },
    {
      "cell_type": "code",
      "source": [
        "primary_data['text'] = primary_data['text'].str.replace('http[s]?://(?:[a-zA-Z]|[0-9]|[$-_@.&+]|[!*\\(\\),]|(?:%[0-9a-fA-F][0-9a-fA-F]))+', ' ', regex=True)\n"
      ],
      "metadata": {
        "id": "4DIdq7shFtb0"
      },
      "execution_count": 137,
      "outputs": []
    },
    {
      "cell_type": "markdown",
      "source": [
        "Creating a new csv file for cleaned primary data set"
      ],
      "metadata": {
        "id": "FeYHNZZcF2nV"
      }
    },
    {
      "cell_type": "code",
      "source": [
        "primary_data.to_csv(\"df_primary.csv\")"
      ],
      "metadata": {
        "id": "wpTRZemuGD7N"
      },
      "execution_count": 138,
      "outputs": []
    },
    {
      "cell_type": "markdown",
      "source": [
        "# Split Primary dataset into Train (70%) and Test(30%) and use the secondary dataset as a test set"
      ],
      "metadata": {
        "id": "PaSlM0n_IGjl"
      }
    },
    {
      "cell_type": "code",
      "source": [
        "df1 = pd.read_csv('/content/df_primary.csv')"
      ],
      "metadata": {
        "id": "eq89wPAxEzwu"
      },
      "execution_count": 139,
      "outputs": []
    },
    {
      "cell_type": "code",
      "source": [
        "# Split Primary dataset into Train (70%) and Test(30%)\n",
        "\n",
        "X1_train, X1_test, y1_train, y1_test = train_test_split(primary_data.text, primary_data.max_freq_val, test_size=0.3)\n",
        "\n",
        "\n"
      ],
      "metadata": {
        "id": "xbB-vONUPPDC"
      },
      "execution_count": 173,
      "outputs": []
    },
    {
      "cell_type": "code",
      "source": [
        "print(y1_train.shape)\n",
        "print(y1_test.shape)\n",
        "print(X1_train.shape)\n",
        "print(X1_test.shape)\n"
      ],
      "metadata": {
        "colab": {
          "base_uri": "https://localhost:8080/"
        },
        "id": "yjDxwbJOI0HD",
        "outputId": "92b8ba1e-73a3-4fe9-dba8-e0580e4daead"
      },
      "execution_count": 174,
      "outputs": [
        {
          "output_type": "stream",
          "name": "stdout",
          "text": [
            "(1050,)\n",
            "(450,)\n",
            "(1050,)\n",
            "(450,)\n"
          ]
        }
      ]
    },
    {
      "cell_type": "code",
      "source": [
        "y1_test.value_counts()"
      ],
      "metadata": {
        "colab": {
          "base_uri": "https://localhost:8080/"
        },
        "id": "EPuD4dPaKX5M",
        "outputId": "bda49f06-091d-4031-8df8-4e3492296f94"
      },
      "execution_count": 175,
      "outputs": [
        {
          "output_type": "execute_result",
          "data": {
            "text/plain": [
              "[True]     274\n",
              "[False]    176\n",
              "Name: max_freq_val, dtype: int64"
            ]
          },
          "metadata": {},
          "execution_count": 175
        }
      ]
    },
    {
      "cell_type": "markdown",
      "source": [
        "#Cleaning secondary Dataset"
      ],
      "metadata": {
        "id": "3Wc9tUWCHSvf"
      }
    },
    {
      "cell_type": "code",
      "source": [
        "secondary_data['text'] = secondary_data['text'].str.replace('http[s]?://(?:[a-zA-Z]|[0-9]|[$-_@.&+]|[!*\\(\\),]|(?:%[0-9a-fA-F][0-9a-fA-F]))+', ' ', regex=True)"
      ],
      "metadata": {
        "id": "gW6aatOAHdeY"
      },
      "execution_count": 176,
      "outputs": []
    },
    {
      "cell_type": "markdown",
      "source": [
        "# TFIDF vectorizer on the text from training and testing datasets"
      ],
      "metadata": {
        "id": "xw196zaO1cGd"
      }
    },
    {
      "cell_type": "markdown",
      "source": [
        "# Feature engineering using pipeline :\n",
        "  We shall make use of (CountVectorizer) which convert our text documents to a matrix of token counts, we then use (tf-idf transformer) to transform a count matrix to a normalized tf-idf representation before traning the classifiers "
      ],
      "metadata": {
        "id": "gANO98FDPrAm"
      }
    },
    {
      "cell_type": "markdown",
      "source": [
        "# Naive Bayes classifier for multinomial models"
      ],
      "metadata": {
        "id": "Q2q21mgZQntu"
      }
    },
    {
      "cell_type": "code",
      "source": [
        "\n",
        "from sklearn.naive_bayes import MultinomialNB\n",
        "from sklearn.feature_extraction.text import CountVectorizer\n",
        "from sklearn.pipeline import Pipeline\n",
        "from sklearn.feature_extraction.text import TfidfTransformer\n",
        "\n",
        "nb = Pipeline([('vect', CountVectorizer()),\n",
        "               ('tfidf', TfidfTransformer()),\n",
        "               ('clf', MultinomialNB()),\n",
        "               ])\n",
        "nb.fit(X1_train, y1_train)"
      ],
      "metadata": {
        "colab": {
          "base_uri": "https://localhost:8080/"
        },
        "id": "JIfxRo3jQgqm",
        "outputId": "56695811-f91f-45f0-aa21-cfd4e7bc04fa"
      },
      "execution_count": 177,
      "outputs": [
        {
          "output_type": "execute_result",
          "data": {
            "text/plain": [
              "Pipeline(steps=[('vect', CountVectorizer()), ('tfidf', TfidfTransformer()),\n",
              "                ('clf', MultinomialNB())])"
            ]
          },
          "metadata": {},
          "execution_count": 177
        }
      ]
    },
    {
      "cell_type": "code",
      "source": [
        "%%time\n",
        "from sklearn.metrics import classification_report\n",
        "y_pred = nb.predict(X1_test)\n",
        "\n",
        "print('accuracy %s' % accuracy_score(y_pred, y1_test))\n",
        "print(classification_report(y1_test, y_pred,target_names = df_freq_val))"
      ],
      "metadata": {
        "colab": {
          "base_uri": "https://localhost:8080/"
        },
        "id": "zTOCtTfTSLas",
        "outputId": "275de742-d4b8-490f-93db-ff282d725a3e"
      },
      "execution_count": 178,
      "outputs": [
        {
          "output_type": "stream",
          "name": "stdout",
          "text": [
            "accuracy 0.9822222222222222\n",
            "              precision    recall  f1-score   support\n",
            "\n",
            "      [True]       1.00      0.95      0.98       176\n",
            "     [False]       0.97      1.00      0.99       274\n",
            "\n",
            "    accuracy                           0.98       450\n",
            "   macro avg       0.99      0.98      0.98       450\n",
            "weighted avg       0.98      0.98      0.98       450\n",
            "\n",
            "CPU times: user 36.6 ms, sys: 0 ns, total: 36.6 ms\n",
            "Wall time: 37.5 ms\n"
          ]
        }
      ]
    },
    {
      "cell_type": "markdown",
      "source": [
        "# Linear support vector machine"
      ],
      "metadata": {
        "id": "KjnHNnL3WhPt"
      }
    },
    {
      "cell_type": "code",
      "source": [
        "from sklearn.linear_model import SGDClassifier\n",
        "\n",
        "sgd = Pipeline([('vect', CountVectorizer()),\n",
        "                ('tfidf', TfidfTransformer()),\n",
        "                ('clf', SGDClassifier(loss='hinge', penalty='l2',alpha=1e-3, random_state=1, max_iter=5, tol=None)),\n",
        "               ])\n",
        "sgd.fit(X1_train, y1_train)"
      ],
      "metadata": {
        "colab": {
          "base_uri": "https://localhost:8080/"
        },
        "id": "Ov0mAnwvWjZN",
        "outputId": "840b5e14-ce73-487a-8b01-1413cd83a681"
      },
      "execution_count": 179,
      "outputs": [
        {
          "output_type": "execute_result",
          "data": {
            "text/plain": [
              "Pipeline(steps=[('vect', CountVectorizer()), ('tfidf', TfidfTransformer()),\n",
              "                ('clf',\n",
              "                 SGDClassifier(alpha=0.001, max_iter=5, random_state=1,\n",
              "                               tol=None))])"
            ]
          },
          "metadata": {},
          "execution_count": 179
        }
      ]
    },
    {
      "cell_type": "code",
      "source": [
        "%%time\n",
        "\n",
        "y_pred = sgd.predict(X1_test)\n",
        "\n",
        "print('accuracy %s' % accuracy_score(y_pred, y1_test))\n",
        "print(classification_report(y1_test, y_pred,target_names=df_freq_val))"
      ],
      "metadata": {
        "colab": {
          "base_uri": "https://localhost:8080/"
        },
        "id": "zU1hL63SWovN",
        "outputId": "9e956f35-8b46-4528-dc47-cbb2885160f3"
      },
      "execution_count": 180,
      "outputs": [
        {
          "output_type": "stream",
          "name": "stdout",
          "text": [
            "accuracy 0.9844444444444445\n",
            "              precision    recall  f1-score   support\n",
            "\n",
            "      [True]       0.99      0.97      0.98       176\n",
            "     [False]       0.98      0.99      0.99       274\n",
            "\n",
            "    accuracy                           0.98       450\n",
            "   macro avg       0.99      0.98      0.98       450\n",
            "weighted avg       0.98      0.98      0.98       450\n",
            "\n",
            "CPU times: user 34.2 ms, sys: 1.71 ms, total: 35.9 ms\n",
            "Wall time: 38 ms\n"
          ]
        }
      ]
    },
    {
      "cell_type": "markdown",
      "source": [
        "# Logistic regression"
      ],
      "metadata": {
        "id": "4WCum2vlYVdG"
      }
    },
    {
      "cell_type": "code",
      "source": [
        "from sklearn.linear_model import LogisticRegression\n",
        "\n",
        "logreg = Pipeline([('vect', CountVectorizer()),\n",
        "                ('tfidf', TfidfTransformer()),\n",
        "                ('clf', LogisticRegression(n_jobs=1, C=10e5)),\n",
        "                ])\n",
        "logreg.fit(X1_train, y1_train)"
      ],
      "metadata": {
        "colab": {
          "base_uri": "https://localhost:8080/"
        },
        "id": "bI7q3LLkYdz_",
        "outputId": "42cf0dcc-0100-4a3e-dd0a-070b21d84585"
      },
      "execution_count": 183,
      "outputs": [
        {
          "output_type": "execute_result",
          "data": {
            "text/plain": [
              "Pipeline(steps=[('vect', CountVectorizer()), ('tfidf', TfidfTransformer()),\n",
              "                ('clf', LogisticRegression(C=1000000.0, n_jobs=1))])"
            ]
          },
          "metadata": {},
          "execution_count": 183
        }
      ]
    },
    {
      "cell_type": "code",
      "source": [
        "%%time\n",
        "\n",
        "y_pred = logreg.predict(X1_test)\n",
        "\n",
        "print('accuracy %s' % accuracy_score(y_pred, y1_test))\n",
        "print(classification_report(y1_test, y_pred,target_names=df_freq_val))"
      ],
      "metadata": {
        "colab": {
          "base_uri": "https://localhost:8080/"
        },
        "id": "ComNdBxA9zae",
        "outputId": "290533f2-9bd7-4a12-d62a-24024f1f1ae5"
      },
      "execution_count": 184,
      "outputs": [
        {
          "output_type": "stream",
          "name": "stdout",
          "text": [
            "accuracy 0.9777777777777777\n",
            "              precision    recall  f1-score   support\n",
            "\n",
            "      [True]       0.99      0.95      0.97       176\n",
            "     [False]       0.97      0.99      0.98       274\n",
            "\n",
            "    accuracy                           0.98       450\n",
            "   macro avg       0.98      0.97      0.98       450\n",
            "weighted avg       0.98      0.98      0.98       450\n",
            "\n",
            "CPU times: user 35.7 ms, sys: 0 ns, total: 35.7 ms\n",
            "Wall time: 40.7 ms\n"
          ]
        }
      ]
    },
    {
      "cell_type": "markdown",
      "source": [
        "# TFIDF vectorizer on the text from training and testing datasets"
      ],
      "metadata": {
        "id": "vV3FU0zLMgIr"
      }
    },
    {
      "cell_type": "code",
      "execution_count": 185,
      "metadata": {
        "id": "sR1sAAkKTU-b"
      },
      "outputs": [],
      "source": [
        "primary_data['text'] = primary_data['text'].str.replace('http[s]?://(?:[a-zA-Z]|[0-9]|[$-_@.&+]|[!*\\(\\),]|(?:%[0-9a-fA-F][0-9a-fA-F]))+', ' ', regex=True)\n",
        "secondary_data['text'] = secondary_data['text'].str.replace('http[s]?://(?:[a-zA-Z]|[0-9]|[$-_@.&+]|[!*\\(\\),]|(?:%[0-9a-fA-F][0-9a-fA-F]))+', ' ', regex=True)"
      ]
    },
    {
      "cell_type": "code",
      "execution_count": 186,
      "metadata": {
        "id": "BqZM7TyJTU-d"
      },
      "outputs": [],
      "source": [
        "# Split Primary dataset into Train (70%) and Test(30%)\n",
        "primary_data_train, primary_data_test = train_test_split(primary_data, test_size=0.3)\n",
        "\n",
        "# get labels from 2nd dataset\n",
        "y2_test = secondary_data.max_freq_val\n",
        "\n",
        "# Get labels from train and test data\n",
        "y_train = primary_data_train.max_freq_val\n",
        "y_test = primary_data_test.max_freq_val\n"
      ]
    },
    {
      "cell_type": "code",
      "execution_count": 187,
      "metadata": {
        "colab": {
          "base_uri": "https://localhost:8080/"
        },
        "id": "82_VFvlyTU-e",
        "outputId": "a454d359-0975-4bab-927c-0fd9b200e934"
      },
      "outputs": [
        {
          "output_type": "execute_result",
          "data": {
            "text/plain": [
              "[True]     495\n",
              "[False]    405\n",
              "Name: max_freq_val, dtype: int64"
            ]
          },
          "metadata": {},
          "execution_count": 187
        }
      ],
      "source": [
        "y2_test.value_counts()"
      ]
    },
    {
      "cell_type": "code",
      "execution_count": 188,
      "metadata": {
        "colab": {
          "base_uri": "https://localhost:8080/"
        },
        "id": "cD6iKAITTU-e",
        "outputId": "e36745b8-ebd0-43c0-96b2-faf87999f3b7"
      },
      "outputs": [
        {
          "output_type": "execute_result",
          "data": {
            "text/plain": [
              "[True]     267\n",
              "[False]    183\n",
              "Name: max_freq_val, dtype: int64"
            ]
          },
          "metadata": {},
          "execution_count": 188
        }
      ],
      "source": [
        "y_test.value_counts()"
      ]
    },
    {
      "cell_type": "markdown",
      "metadata": {
        "id": "MPBWy5dgTU-f"
      },
      "source": [
        "## Use TFIDF vectorizer on the text from training and testing datasets"
      ]
    },
    {
      "cell_type": "code",
      "execution_count": 189,
      "metadata": {
        "id": "ydb6sDusTU-f"
      },
      "outputs": [],
      "source": [
        "vectorizer = TfidfVectorizer(min_df=3, stop_words=\"english\").fit(primary_data_train.text)\n",
        "X_train = vectorizer.transform(primary_data_train.text)\n",
        "\n",
        "X_test = vectorizer.transform(primary_data_test.text)\n",
        "\n",
        "X2_test = vectorizer.transform(secondary_data.text)\n"
      ]
    },
    {
      "cell_type": "code",
      "execution_count": 190,
      "metadata": {
        "colab": {
          "base_uri": "https://localhost:8080/"
        },
        "id": "J2cVzYqiTU-g",
        "outputId": "d7b096f1-58fd-4f25-f7ed-2bf224aa0fb3"
      },
      "outputs": [
        {
          "output_type": "stream",
          "name": "stdout",
          "text": [
            "(1050, 1565)\n",
            "(450, 1565)\n",
            "(900, 1565)\n",
            "(1050,)\n",
            "(450,)\n",
            "(900,)\n"
          ]
        }
      ],
      "source": [
        "print(X_train.shape)\n",
        "\n",
        "print(X_test.shape)\n",
        "\n",
        "print(X2_test.shape)\n",
        "\n",
        "print(y_train.shape)\n",
        "\n",
        "print(y_test.shape)\n",
        "\n",
        "print(y2_test.shape)"
      ]
    },
    {
      "cell_type": "markdown",
      "source": [
        "### NaiveBayes testing on X_test and X2_test"
      ],
      "metadata": {
        "id": "Oz2VwOQTRwkk"
      }
    },
    {
      "cell_type": "code",
      "source": [
        "# NaiveBayes\n",
        "clf =MultinomialNB().fit(X_train, y_train)\n",
        "y_hat_nb_test = clf.predict(X_test)\n",
        "y_hat_nb_secondary_dataset_test = clf.predict(X2_test)\n"
      ],
      "metadata": {
        "id": "P2gIZeFuA5kI"
      },
      "execution_count": 212,
      "outputs": []
    },
    {
      "cell_type": "code",
      "source": [
        "print(classification_report(y_test, y_hat_nb_test)) # 30%"
      ],
      "metadata": {
        "colab": {
          "base_uri": "https://localhost:8080/"
        },
        "id": "OHwiGBjCSyUG",
        "outputId": "875d4862-8862-4eb9-c9a9-bf26536569f2"
      },
      "execution_count": 213,
      "outputs": [
        {
          "output_type": "stream",
          "name": "stdout",
          "text": [
            "              precision    recall  f1-score   support\n",
            "\n",
            "     [False]       0.98      0.90      0.93       183\n",
            "      [True]       0.93      0.99      0.96       267\n",
            "\n",
            "    accuracy                           0.95       450\n",
            "   macro avg       0.95      0.94      0.95       450\n",
            "weighted avg       0.95      0.95      0.95       450\n",
            "\n"
          ]
        }
      ]
    },
    {
      "cell_type": "code",
      "execution_count": 214,
      "metadata": {
        "colab": {
          "base_uri": "https://localhost:8080/"
        },
        "id": "24_ZcuzCTU-i",
        "outputId": "a8cceaf2-f5f4-4c18-ded7-351226e1fbbe"
      },
      "outputs": [
        {
          "output_type": "stream",
          "name": "stdout",
          "text": [
            "              precision    recall  f1-score   support\n",
            "\n",
            "     [False]       0.57      0.43      0.49       405\n",
            "      [True]       0.61      0.74      0.67       495\n",
            "\n",
            "    accuracy                           0.60       900\n",
            "   macro avg       0.59      0.58      0.58       900\n",
            "weighted avg       0.60      0.60      0.59       900\n",
            "\n"
          ]
        }
      ],
      "source": [
        "print(classification_report(y2_test,y_hat_nb_secondary_dataset_test))"
      ]
    },
    {
      "cell_type": "markdown",
      "metadata": {
        "id": "vzBD41NkTU-i"
      },
      "source": [
        "### Random Forest Classifier testing on X_test and X2_test without feature engineering"
      ]
    },
    {
      "cell_type": "code",
      "execution_count": 215,
      "metadata": {
        "id": "5A3KXHalTU-i"
      },
      "outputs": [],
      "source": [
        "rf = RandomForestClassifier().fit(X_train, y_train)\n",
        "y_hat_rf_test = rf.predict(X_test)\n",
        "y_hat_rf_secondary_dataset_test = rf.predict(X2_test)\n"
      ]
    },
    {
      "cell_type": "code",
      "execution_count": 216,
      "metadata": {
        "colab": {
          "base_uri": "https://localhost:8080/"
        },
        "id": "NN3JO4PBTU-j",
        "outputId": "da7309f4-8362-41d3-b411-afbc2da1b31e"
      },
      "outputs": [
        {
          "output_type": "stream",
          "name": "stdout",
          "text": [
            "              precision    recall  f1-score   support\n",
            "\n",
            "     [False]       0.98      0.90      0.93       183\n",
            "      [True]       0.93      0.99      0.96       267\n",
            "\n",
            "    accuracy                           0.95       450\n",
            "   macro avg       0.95      0.94      0.95       450\n",
            "weighted avg       0.95      0.95      0.95       450\n",
            "\n"
          ]
        }
      ],
      "source": [
        "print(classification_report(y_test, y_hat_nb_test)) # 30%"
      ]
    },
    {
      "cell_type": "code",
      "execution_count": 217,
      "metadata": {
        "colab": {
          "base_uri": "https://localhost:8080/"
        },
        "id": "N5Wl1VXhTU-j",
        "outputId": "e2f638ec-eb84-4599-a366-47341093c54c"
      },
      "outputs": [
        {
          "output_type": "stream",
          "name": "stdout",
          "text": [
            "              precision    recall  f1-score   support\n",
            "\n",
            "     [False]       0.57      0.43      0.49       405\n",
            "      [True]       0.61      0.74      0.67       495\n",
            "\n",
            "    accuracy                           0.60       900\n",
            "   macro avg       0.59      0.58      0.58       900\n",
            "weighted avg       0.60      0.60      0.59       900\n",
            "\n"
          ]
        }
      ],
      "source": [
        "print(classification_report(y2_test,y_hat_nb_secondary_dataset_test)) # secondary data"
      ]
    },
    {
      "cell_type": "markdown",
      "metadata": {
        "id": "V0ZaJCQJTU-j"
      },
      "source": [
        "## Training a Logistic Regression model without penalty"
      ]
    },
    {
      "cell_type": "code",
      "execution_count": 218,
      "metadata": {
        "colab": {
          "base_uri": "https://localhost:8080/"
        },
        "id": "URjMIHxXTU-j",
        "outputId": "829fc879-89e4-43cf-e82b-ec8933931ae2"
      },
      "outputs": [
        {
          "output_type": "stream",
          "name": "stdout",
          "text": [
            "CPU times: user 62.8 ms, sys: 1.52 ms, total: 64.3 ms\n",
            "Wall time: 66 ms\n"
          ]
        }
      ],
      "source": [
        "%%time\n",
        "lr_model = LogisticRegression(penalty=\"none\",multi_class=\"multinomial\",solver=\"lbfgs\").fit(X_train, y_train)\n",
        "\n",
        "# Predicting Test data from 1st dataset\n",
        "y_hat_lr_test = lr_model.predict(X_test)\n",
        "\n",
        "# Predicting Test data from Second Dataset\n",
        "y_hat_secondary_dataset_test = lr_model.predict(X2_test)"
      ]
    },
    {
      "cell_type": "markdown",
      "metadata": {
        "id": "3B4M97t9TU-j"
      },
      "source": [
        "## Check the Logistic Regression Model fit metrics (precision, recall, f1 score, support, accuracy and weighted average) for Test data from Primary Dataset"
      ]
    },
    {
      "cell_type": "code",
      "execution_count": 219,
      "metadata": {
        "colab": {
          "base_uri": "https://localhost:8080/"
        },
        "id": "INzdWoguTU-k",
        "outputId": "190e6db2-caf8-4cba-a8cf-aeb10dec6b46"
      },
      "outputs": [
        {
          "output_type": "stream",
          "name": "stdout",
          "text": [
            "              precision    recall  f1-score   support\n",
            "\n",
            "     [False]       0.99      0.95      0.97       183\n",
            "      [True]       0.97      0.99      0.98       267\n",
            "\n",
            "    accuracy                           0.98       450\n",
            "   macro avg       0.98      0.97      0.97       450\n",
            "weighted avg       0.98      0.98      0.98       450\n",
            "\n"
          ]
        }
      ],
      "source": [
        "print(classification_report(y_test, y_hat_lr_test)) # 30%"
      ]
    },
    {
      "cell_type": "markdown",
      "metadata": {
        "id": "neRD_uyETU-k"
      },
      "source": [
        "## Check the Logistic Regression Model fit metrics (precision, recall, f1 score, support, accuracy and weighted average) for Secondary Dataset"
      ]
    },
    {
      "cell_type": "code",
      "execution_count": 220,
      "metadata": {
        "colab": {
          "base_uri": "https://localhost:8080/"
        },
        "id": "LgtEkH0dTU-k",
        "outputId": "5615bacd-de72-43ea-a2cf-ef053414ac1d"
      },
      "outputs": [
        {
          "output_type": "stream",
          "name": "stdout",
          "text": [
            "              precision    recall  f1-score   support\n",
            "\n",
            "     [False]       0.73      0.58      0.64       405\n",
            "      [True]       0.70      0.82      0.76       495\n",
            "\n",
            "    accuracy                           0.71       900\n",
            "   macro avg       0.72      0.70      0.70       900\n",
            "weighted avg       0.72      0.71      0.71       900\n",
            "\n"
          ]
        }
      ],
      "source": [
        "print(classification_report(y2_test,y_hat_secondary_dataset_test)) # secondary data"
      ]
    },
    {
      "cell_type": "markdown",
      "metadata": {
        "id": "yqiV1dnATU-k"
      },
      "source": [
        "## Confusion matrix for Primary test dataset"
      ]
    },
    {
      "cell_type": "code",
      "execution_count": 221,
      "metadata": {
        "colab": {
          "base_uri": "https://localhost:8080/",
          "height": 325
        },
        "id": "2om9NMneTU-k",
        "outputId": "3ff8ad2d-6244-40f8-ea6c-b7fc6abe7928"
      },
      "outputs": [
        {
          "output_type": "display_data",
          "data": {
            "text/plain": [
              "<Figure size 432x288 with 2 Axes>"
            ],
            "image/png": "[encoded data removed]"
          },
          "metadata": {
            "needs_background": "light"
          }
        }
      ],
      "source": [
        "cnf_matrix_l1_primary_dataset = metrics.confusion_matrix(y_test, y_hat_lr_test)\n",
        "%matplotlib inline\n",
        "class_names = [\"False\", \"True\"]  # name  of classes\n",
        "fig, ax = plt.subplots()\n",
        "tick_marks = np.arange(len(class_names))\n",
        "plt.xticks([0, 1], label=class_names)\n",
        "plt.yticks(tick_marks, label=class_names)\n",
        "# create heatmap\n",
        "sns.heatmap(pd.DataFrame(cnf_matrix_l1_primary_dataset),annot=True, cmap=\"YlGnBu\", fmt='g')\n",
        "ax.xaxis.set_label_position(\"top\")\n",
        "plt.tight_layout()\n",
        "plt.title('Confusion matrix for Primary test dataset Logistic regression without penalty', y=1.1)\n",
        "plt.ylabel('Actual label')\n",
        "plt.xlabel('Predicted label')\n",
        "plt.show()\n"
      ]
    },
    {
      "cell_type": "markdown",
      "metadata": {
        "id": "GKwPaVsVTU-l"
      },
      "source": [
        "## Confusion matrix for Secondary test dataset"
      ]
    },
    {
      "cell_type": "code",
      "execution_count": 222,
      "metadata": {
        "colab": {
          "base_uri": "https://localhost:8080/",
          "height": 325
        },
        "id": "WNFmUzfSTU-l",
        "outputId": "a64d64e0-11a7-4f78-bb39-9159ceeb968e"
      },
      "outputs": [
        {
          "output_type": "display_data",
          "data": {
            "text/plain": [
              "<Figure size 432x288 with 2 Axes>"
            ],
            "image/png": "[encoded data removed]"
          },
          "metadata": {
            "needs_background": "light"
          }
        }
      ],
      "source": [
        "cnf_matrix_l1_secondary_dataset = metrics.confusion_matrix(y2_test, y_hat_secondary_dataset_test)\n",
        "%matplotlib inline\n",
        "class_names = [\"False\", \"True\"]  # name  of classes\n",
        "fig, ax = plt.subplots()\n",
        "tick_marks = np.arange(len(class_names))\n",
        "plt.xticks([0, 1], label=class_names)\n",
        "plt.yticks(tick_marks, label=class_names)\n",
        "# create heatmap\n",
        "sns.heatmap(pd.DataFrame(cnf_matrix_l1_secondary_dataset),annot=True, cmap=\"YlGnBu\", fmt='g')\n",
        "ax.xaxis.set_label_position(\"top\")\n",
        "plt.tight_layout()\n",
        "plt.title('Confusion matrix for Primary test dataset Logistic regression without penalty', y=1.1)\n",
        "plt.ylabel('Actual label')\n",
        "plt.xlabel('Predicted label')\n",
        "plt.show()\n"
      ]
    },
    {
      "cell_type": "markdown",
      "metadata": {
        "id": "qMhjSJ5zTU-l"
      },
      "source": [
        "## Training a Logistic Regression model with l2 penalty"
      ]
    },
    {
      "cell_type": "code",
      "execution_count": 223,
      "metadata": {
        "colab": {
          "base_uri": "https://localhost:8080/"
        },
        "id": "NrwsKl-pTU-l",
        "outputId": "bb314e07-f772-4f46-adf9-b3cfe21c633a"
      },
      "outputs": [
        {
          "output_type": "stream",
          "name": "stdout",
          "text": [
            "CPU times: user 96.4 ms, sys: 236 µs, total: 96.7 ms\n",
            "Wall time: 98.9 ms\n"
          ]
        }
      ],
      "source": [
        "%%time\n",
        "lr2_model = LogisticRegression(penalty=\"l2\",\n",
        "                               solver=\"lbfgs\",\n",
        "                               multi_class=\"multinomial\",\n",
        "                               max_iter=5000,\n",
        "                               C=10).fit(X_train, y_train)\n",
        "                               \n",
        "y_hat_lr2_test = lr2_model.predict(X_test)\n",
        "\n",
        "y2_hat_lr2_test = lr2_model.predict(X2_test)\n"
      ]
    },
    {
      "cell_type": "markdown",
      "metadata": {
        "id": "Chf3agWkTU-l"
      },
      "source": [
        "## Check the Logistic Regression Model with penalty fit metrics (precision, recall, f1 score, support, accuracy and weighted average) for Primary Dataset"
      ]
    },
    {
      "cell_type": "code",
      "execution_count": 224,
      "metadata": {
        "colab": {
          "base_uri": "https://localhost:8080/"
        },
        "id": "TGGZmzJATU-l",
        "outputId": "892a7b1c-331f-4806-ef10-b3e9f83a8bad"
      },
      "outputs": [
        {
          "output_type": "stream",
          "name": "stdout",
          "text": [
            "              precision    recall  f1-score   support\n",
            "\n",
            "     [False]       0.99      0.95      0.97       183\n",
            "      [True]       0.97      0.99      0.98       267\n",
            "\n",
            "    accuracy                           0.98       450\n",
            "   macro avg       0.98      0.97      0.97       450\n",
            "weighted avg       0.98      0.98      0.98       450\n",
            "\n"
          ]
        }
      ],
      "source": [
        "print(classification_report(y_test, y_hat_lr2_test))"
      ]
    },
    {
      "cell_type": "markdown",
      "metadata": {
        "id": "7UBAPrQETU-l"
      },
      "source": [
        "## Check the Logistic Regression Model with penalty fit metrics (precision, recall, f1 score, support, accuracy and weighted average) for Secondary Dataset"
      ]
    },
    {
      "cell_type": "code",
      "execution_count": 225,
      "metadata": {
        "colab": {
          "base_uri": "https://localhost:8080/"
        },
        "id": "0i_taL7ZTU-m",
        "outputId": "e998cfff-7b5f-4f7f-8d64-513944dc1e45"
      },
      "outputs": [
        {
          "output_type": "stream",
          "name": "stdout",
          "text": [
            "              precision    recall  f1-score   support\n",
            "\n",
            "     [False]       0.81      0.44      0.57       405\n",
            "      [True]       0.67      0.92      0.77       495\n",
            "\n",
            "    accuracy                           0.70       900\n",
            "   macro avg       0.74      0.68      0.67       900\n",
            "weighted avg       0.73      0.70      0.68       900\n",
            "\n"
          ]
        }
      ],
      "source": [
        "print(classification_report(y2_test, y2_hat_lr2_test))"
      ]
    },
    {
      "cell_type": "code",
      "execution_count": 227,
      "metadata": {
        "id": "ISl6lraNGzsd"
      },
      "outputs": [],
      "source": [
        "rf = RandomForestClassifier().fit(X_train, y_train)\n",
        "y_hat_rf_test = rf.predict(X_test)\n",
        "y_hat_rf_secondary_dataset_test = rf.predict(X2_test)\n"
      ]
    },
    {
      "cell_type": "code",
      "execution_count": 206,
      "metadata": {
        "colab": {
          "base_uri": "https://localhost:8080/"
        },
        "outputId": "6fb3e163-c002-4183-e506-d04e0c3982f1",
        "id": "nSc3ST03Gzse"
      },
      "outputs": [
        {
          "output_type": "stream",
          "name": "stdout",
          "text": [
            "              precision    recall  f1-score   support\n",
            "\n",
            "     [False]       0.98      0.90      0.93       183\n",
            "      [True]       0.93      0.99      0.96       267\n",
            "\n",
            "    accuracy                           0.95       450\n",
            "   macro avg       0.95      0.94      0.95       450\n",
            "weighted avg       0.95      0.95      0.95       450\n",
            "\n"
          ]
        }
      ],
      "source": [
        "print(classification_report(y_test, y_hat_nb_test)) # 30%"
      ]
    },
    {
      "cell_type": "code",
      "execution_count": 228,
      "metadata": {
        "colab": {
          "base_uri": "https://localhost:8080/"
        },
        "outputId": "8510fdc2-af74-4fa6-d533-3b9d0ea45935",
        "id": "hqWVRSYyGzsf"
      },
      "outputs": [
        {
          "output_type": "stream",
          "name": "stdout",
          "text": [
            "              precision    recall  f1-score   support\n",
            "\n",
            "     [False]       0.57      0.43      0.49       405\n",
            "      [True]       0.61      0.74      0.67       495\n",
            "\n",
            "    accuracy                           0.60       900\n",
            "   macro avg       0.59      0.58      0.58       900\n",
            "weighted avg       0.60      0.60      0.59       900\n",
            "\n"
          ]
        }
      ],
      "source": [
        "print(classification_report(y2_test,y_hat_nb_secondary_dataset_test)) # secondary data"
      ]
    },
    {
      "cell_type": "markdown",
      "metadata": {
        "id": "PIdaYfwrGzsh"
      },
      "source": [
        "## Training a Logistic Regression model without penalty"
      ]
    },
    {
      "cell_type": "code",
      "execution_count": 229,
      "metadata": {
        "colab": {
          "base_uri": "https://localhost:8080/"
        },
        "outputId": "1c310608-bd39-4a49-986e-efdf5be9fcb7",
        "id": "Gld2_rkzGzsh"
      },
      "outputs": [
        {
          "output_type": "stream",
          "name": "stdout",
          "text": [
            "CPU times: user 54.1 ms, sys: 0 ns, total: 54.1 ms\n",
            "Wall time: 60 ms\n"
          ]
        }
      ],
      "source": [
        "%%time\n",
        "lr_model = LogisticRegression(penalty=\"none\",multi_class=\"multinomial\",solver=\"lbfgs\").fit(X_train, y_train)\n",
        "\n",
        "# Predicting Test data from 1st dataset\n",
        "y_hat_lr_test = lr_model.predict(X_test)\n",
        "\n",
        "# Predicting Test data from Second Dataset\n",
        "y_hat_secondary_dataset_test = lr_model.predict(X2_test)"
      ]
    },
    {
      "cell_type": "markdown",
      "metadata": {
        "id": "OvrGbZYoGzsi"
      },
      "source": [
        "## Check the Logistic Regression Model fit metrics (precision, recall, f1 score, support, accuracy and weighted average) for Test data from Primary Dataset"
      ]
    },
    {
      "cell_type": "code",
      "execution_count": 230,
      "metadata": {
        "colab": {
          "base_uri": "https://localhost:8080/"
        },
        "outputId": "45266e3f-3b8d-4707-d224-f9913aea2254",
        "id": "a5rol9ZoGzsi"
      },
      "outputs": [
        {
          "output_type": "stream",
          "name": "stdout",
          "text": [
            "              precision    recall  f1-score   support\n",
            "\n",
            "     [False]       0.99      0.95      0.97       183\n",
            "      [True]       0.97      0.99      0.98       267\n",
            "\n",
            "    accuracy                           0.98       450\n",
            "   macro avg       0.98      0.97      0.97       450\n",
            "weighted avg       0.98      0.98      0.98       450\n",
            "\n"
          ]
        }
      ],
      "source": [
        "print(classification_report(y_test, y_hat_lr_test)) # 30%"
      ]
    },
    {
      "cell_type": "markdown",
      "metadata": {
        "id": "OHQ9ew4dGzsj"
      },
      "source": [
        "## Check the Logistic Regression Model fit metrics (precision, recall, f1 score, support, accuracy and weighted average) for Secondary Dataset"
      ]
    },
    {
      "cell_type": "code",
      "execution_count": 231,
      "metadata": {
        "colab": {
          "base_uri": "https://localhost:8080/"
        },
        "outputId": "ef8bad3f-e03a-441a-b9cc-7ff519c2579b",
        "id": "7o32-e8CGzsj"
      },
      "outputs": [
        {
          "output_type": "stream",
          "name": "stdout",
          "text": [
            "              precision    recall  f1-score   support\n",
            "\n",
            "     [False]       0.73      0.58      0.64       405\n",
            "      [True]       0.70      0.82      0.76       495\n",
            "\n",
            "    accuracy                           0.71       900\n",
            "   macro avg       0.72      0.70      0.70       900\n",
            "weighted avg       0.72      0.71      0.71       900\n",
            "\n"
          ]
        }
      ],
      "source": [
        "print(classification_report(y2_test,y_hat_secondary_dataset_test)) # secondary data"
      ]
    },
    {
      "cell_type": "markdown",
      "metadata": {
        "id": "W7bFk2wCGzsj"
      },
      "source": [
        "## Confusion matrix for Primary test dataset"
      ]
    },
    {
      "cell_type": "code",
      "execution_count": 232,
      "metadata": {
        "colab": {
          "base_uri": "https://localhost:8080/",
          "height": 325
        },
        "outputId": "743ff994-69c7-4f9a-83c1-3aa48eff5904",
        "id": "BT3p8HOXGzsj"
      },
      "outputs": [
        {
          "output_type": "display_data",
          "data": {
            "text/plain": [
              "<Figure size 432x288 with 2 Axes>"
            ],
            "image/png": "[encoded data removed]"
          },
          "metadata": {
            "needs_background": "light"
          }
        }
      ],
      "source": [
        "cnf_matrix_l1_primary_dataset = metrics.confusion_matrix(y_test, y_hat_lr_test)\n",
        "%matplotlib inline\n",
        "class_names = [\"False\", \"True\"]  # name  of classes\n",
        "fig, ax = plt.subplots()\n",
        "tick_marks = np.arange(len(class_names))\n",
        "plt.xticks([0, 1], label=class_names)\n",
        "plt.yticks(tick_marks, label=class_names)\n",
        "# create heatmap\n",
        "sns.heatmap(pd.DataFrame(cnf_matrix_l1_primary_dataset),annot=True, cmap=\"YlGnBu\", fmt='g')\n",
        "ax.xaxis.set_label_position(\"top\")\n",
        "plt.tight_layout()\n",
        "plt.title('Confusion matrix for Primary test dataset Logistic regression without penalty', y=1.1)\n",
        "plt.ylabel('Actual label')\n",
        "plt.xlabel('Predicted label')\n",
        "plt.show()\n"
      ]
    },
    {
      "cell_type": "markdown",
      "metadata": {
        "id": "tXHh6zshGzsk"
      },
      "source": [
        "## Confusion matrix for Secondary test dataset"
      ]
    },
    {
      "cell_type": "code",
      "execution_count": 233,
      "metadata": {
        "colab": {
          "base_uri": "https://localhost:8080/",
          "height": 325
        },
        "outputId": "c99cf7e5-7cd0-4825-cedc-76f014de7f25",
        "id": "siUoSbxOGzsk"
      },
      "outputs": [
        {
          "output_type": "display_data",
          "data": {
            "text/plain": [
              "<Figure size 432x288 with 2 Axes>"
            ],
            "image/png": "[encoded data removed]"
          },
          "metadata": {
            "needs_background": "light"
          }
        }
      ],
      "source": [
        "cnf_matrix_l1_secondary_dataset = metrics.confusion_matrix(y2_test, y_hat_secondary_dataset_test)\n",
        "%matplotlib inline\n",
        "class_names = [\"False\", \"True\"]  # name  of classes\n",
        "fig, ax = plt.subplots()\n",
        "tick_marks = np.arange(len(class_names))\n",
        "plt.xticks([0, 1], label=class_names)\n",
        "plt.yticks(tick_marks, label=class_names)\n",
        "# create heatmap\n",
        "sns.heatmap(pd.DataFrame(cnf_matrix_l1_secondary_dataset),annot=True, cmap=\"YlGnBu\", fmt='g')\n",
        "ax.xaxis.set_label_position(\"top\")\n",
        "plt.tight_layout()\n",
        "plt.title('Confusion matrix for Primary test dataset Logistic regression without penalty', y=1.1)\n",
        "plt.ylabel('Actual label')\n",
        "plt.xlabel('Predicted label')\n",
        "plt.show()\n"
      ]
    },
    {
      "cell_type": "markdown",
      "metadata": {
        "id": "WXEGQA7vGzsk"
      },
      "source": [
        "## Training a Logistic Regression model with l2 penalty"
      ]
    },
    {
      "cell_type": "code",
      "execution_count": 234,
      "metadata": {
        "colab": {
          "base_uri": "https://localhost:8080/"
        },
        "outputId": "e6f6d35e-e74a-49ce-dcf7-1a564bec8084",
        "id": "j_IxQRyHGzsk"
      },
      "outputs": [
        {
          "output_type": "stream",
          "name": "stdout",
          "text": [
            "CPU times: user 90.8 ms, sys: 0 ns, total: 90.8 ms\n",
            "Wall time: 96.4 ms\n"
          ]
        }
      ],
      "source": [
        "%%time\n",
        "lr2_model = LogisticRegression(penalty=\"l2\",\n",
        "                               solver=\"lbfgs\",\n",
        "                               multi_class=\"multinomial\",\n",
        "                               max_iter=5000,\n",
        "                               C=10).fit(X_train, y_train)\n",
        "                               \n",
        "y_hat_lr2_test = lr2_model.predict(X_test)\n",
        "\n",
        "y2_hat_lr2_test = lr2_model.predict(X2_test)\n"
      ]
    },
    {
      "cell_type": "markdown",
      "metadata": {
        "id": "QoppvGnEGzsk"
      },
      "source": [
        "## Check the Logistic Regression Model with penalty fit metrics  for Primary Dataset\n",
        "(precision, recall, f1 score, support, accuracy and weighted average)"
      ]
    },
    {
      "cell_type": "code",
      "execution_count": 235,
      "metadata": {
        "colab": {
          "base_uri": "https://localhost:8080/"
        },
        "outputId": "2911afc9-0b7e-4434-b941-f7d93cdf5c65",
        "id": "Rc66kjjvGzsl"
      },
      "outputs": [
        {
          "output_type": "stream",
          "name": "stdout",
          "text": [
            "              precision    recall  f1-score   support\n",
            "\n",
            "     [False]       0.99      0.95      0.97       183\n",
            "      [True]       0.97      0.99      0.98       267\n",
            "\n",
            "    accuracy                           0.98       450\n",
            "   macro avg       0.98      0.97      0.97       450\n",
            "weighted avg       0.98      0.98      0.98       450\n",
            "\n"
          ]
        }
      ],
      "source": [
        "print(classification_report(y_test, y_hat_lr2_test))"
      ]
    },
    {
      "cell_type": "markdown",
      "metadata": {
        "id": "Bq1669keGzsl"
      },
      "source": [
        "## Check the Logistic Regression Model with penalty fit metrics  for Secondary Dataset\n",
        "(precision, recall, f1 score, support, accuracy and weighted average)"
      ]
    },
    {
      "cell_type": "code",
      "execution_count": null,
      "metadata": {
        "colab": {
          "base_uri": "https://localhost:8080/"
        },
        "outputId": "1f5a58ba-1760-498e-b7fb-d943124fa2b8",
        "id": "7OkQMCSXGzsl"
      },
      "outputs": [
        {
          "output_type": "stream",
          "name": "stdout",
          "text": [
            "              precision    recall  f1-score   support\n",
            "\n",
            "     [False]       0.80      0.41      0.55       405\n",
            "      [True]       0.66      0.92      0.76       495\n",
            "\n",
            "    accuracy                           0.69       900\n",
            "   macro avg       0.73      0.66      0.66       900\n",
            "weighted avg       0.72      0.69      0.67       900\n",
            "\n"
          ]
        }
      ],
      "source": [
        "print(classification_report(y2_test, y2_hat_lr2_test))"
      ]
    },
    {
      "cell_type": "markdown",
      "metadata": {
        "id": "yNMcQLVKTU-m"
      },
      "source": [
        "## Feature engineering"
      ]
    },
    {
      "cell_type": "code",
      "execution_count": 236,
      "metadata": {
        "colab": {
          "base_uri": "https://localhost:8080/"
        },
        "id": "4yNkC90GTU-m",
        "outputId": "7f84db31-fdf4-48d4-94f0-efee221afaca"
      },
      "outputs": [
        {
          "output_type": "stream",
          "name": "stdout",
          "text": [
            "(1050, 1569)\n",
            "(450, 1569)\n",
            "(900, 1569)\n"
          ]
        }
      ],
      "source": [
        "#Feature one is finding vax in the text like #Vaxxed #antiVax #vax #covidvax etc\n",
        "def feature_function(text):\n",
        "    return int(bool(\"vax\" in text.lower()))\n",
        "    #return int(bool(re.match(r\"^([A-Z][a-z]+\\s+){3}\", text)))\n",
        "\n",
        "#Feature two is finding vaccin in the text like vaccination, vaccine , vaccinated, #vaccinated , #vaccine, #covidVaccine, Vaccination drive etc\n",
        "def feature_function2(text):\n",
        "    # Flags texts that start with three capitalized words\n",
        "    return int(bool(\"vaccin\" in text.lower()))\n",
        "\n",
        "#Feature three is finding immun in the text like immunity %, immunization, immune, covid vaccine immuntiy etc\n",
        "def feature_function3(text):\n",
        "    # Flags texts that start with three capitalized words\n",
        "    return int(bool(\"immun\" in text.lower()))\n",
        "\n",
        "\n",
        "##CHECK for word = 'CDC', 'Covid', 'Covid', 'Covid-19', 'COVID-19', 'COVIDVACCINE'\n",
        "\n",
        "#Feature four is for finding words like phase 1 phase two trails etc in the text\n",
        "def feature_function4(text):\n",
        "    # Flags texts that start with three capitalized words\n",
        "    #print(re.findall(r\"(phase\\s{0,1}([1-4] | (one | two | three | four))){1, 3}\", text.lower(), flags=0))\n",
        "    return int(bool(re.findall(r\"(phase\\s{0,1}([1-4]|(one|two|three|four))){1,3}(clinical trail|trails){0,1}\", text.lower(), flags=0)))\n",
        "\n",
        "\n",
        "# Applying the above features on the primary_data_train data set\n",
        "new_feature_array1 = primary_data_train.text.apply(feature_function)\n",
        "new_feature_array1_2 = primary_data_train.text.apply(feature_function2)\n",
        "new_feature_array1_3 = primary_data_train.text.apply(feature_function3)\n",
        "new_feature_array1_4 = primary_data_train.text.apply(feature_function4)\n",
        "\n",
        "#Adding the new features to our training dataset\n",
        "X_train_fin = np.insert(X_train.todense(), X_train.shape[1], new_feature_array1, axis=1)\n",
        "X_train_fin = np.insert(X_train_fin, X_train_fin.shape[1], new_feature_array1_2, axis=1)\n",
        "X_train_fin = np.insert(X_train_fin, X_train_fin.shape[1], new_feature_array1_3, axis=1)\n",
        "X_train_fin = np.insert(X_train_fin, X_train_fin.shape[1], new_feature_array1_4, axis=1)\n",
        "\n",
        "#Applying above features to our primary test data set\n",
        "new_feature_array2 = primary_data_test.text.apply(feature_function2)\n",
        "new_feature_array2_2 = primary_data_test.text.apply(feature_function2)\n",
        "new_feature_array2_3 = primary_data_test.text.apply(feature_function3)\n",
        "new_feature_array2_4 = primary_data_test.text.apply(feature_function4)\n",
        "\n",
        "#Adding the new features to our primary test dataset\n",
        "X_test_fin = np.insert(X_test.todense(), X_test.shape[1], new_feature_array2, axis=1)\n",
        "X_test_fin = np.insert(X_test_fin, X_test_fin.shape[1], new_feature_array2_2, axis=1)\n",
        "X_test_fin = np.insert(X_test_fin, X_test_fin.shape[1], new_feature_array2_3, axis=1)\n",
        "X_test_fin = np.insert(X_test_fin, X_test_fin.shape[1], new_feature_array2_4, axis=1)\n",
        "\n",
        "#Applying above features to our secondary test data set\n",
        "new_feature_array3 = secondary_data.text.apply(feature_function)\n",
        "new_feature_array3_2 = secondary_data.text.apply(feature_function2)\n",
        "new_feature_array3_3 = secondary_data.text.apply(feature_function3)\n",
        "new_feature_array3_4 = secondary_data.text.apply(feature_function4)\n",
        "\n",
        "#Adding the new features to our secondary test dataset\n",
        "X2_test_fin = np.insert(X2_test.todense(), X2_test.shape[1], new_feature_array3, axis=1)\n",
        "X2_test_fin = np.insert(X2_test_fin, X2_test_fin.shape[1], new_feature_array3_2, axis=1)\n",
        "X2_test_fin = np.insert(X2_test_fin, X2_test_fin.shape[1], new_feature_array3_3, axis=1)\n",
        "X2_test_fin = np.insert(X2_test_fin, X2_test_fin.shape[1], new_feature_array3_4, axis=1)\n",
        "\n",
        "#Checking the shapes of the training, testing datasets to see if new columns are added\n",
        "print(X_train_fin.shape)\n",
        "print(X_test_fin.shape)\n",
        "print(X2_test_fin.shape)\n"
      ]
    },
    {
      "cell_type": "markdown",
      "metadata": {
        "id": "LrVwLOHjTU-n"
      },
      "source": [
        "## Creating a Logistic Regression model with penalty using the dataset with added features."
      ]
    },
    {
      "cell_type": "code",
      "execution_count": 237,
      "metadata": {
        "colab": {
          "base_uri": "https://localhost:8080/"
        },
        "id": "GHdYi6HaTU-n",
        "outputId": "956d7176-43fe-44d8-bf70-c69ae7a21deb"
      },
      "outputs": [
        {
          "output_type": "stream",
          "name": "stderr",
          "text": [
            "/usr/local/lib/python3.8/dist-packages/sklearn/utils/validation.py:593: FutureWarning: np.matrix usage is deprecated in 1.0 and will raise a TypeError in 1.2. Please convert to a numpy array with np.asarray. For more information see: https://numpy.org/doc/stable/reference/generated/numpy.matrix.html\n",
            "  warnings.warn(\n",
            "/usr/local/lib/python3.8/dist-packages/sklearn/utils/validation.py:593: FutureWarning: np.matrix usage is deprecated in 1.0 and will raise a TypeError in 1.2. Please convert to a numpy array with np.asarray. For more information see: https://numpy.org/doc/stable/reference/generated/numpy.matrix.html\n",
            "  warnings.warn(\n",
            "/usr/local/lib/python3.8/dist-packages/sklearn/utils/validation.py:593: FutureWarning: np.matrix usage is deprecated in 1.0 and will raise a TypeError in 1.2. Please convert to a numpy array with np.asarray. For more information see: https://numpy.org/doc/stable/reference/generated/numpy.matrix.html\n",
            "  warnings.warn(\n"
          ]
        }
      ],
      "source": [
        "lr2_model_with_features = LogisticRegression(penalty=\"l2\",\n",
        "                               solver=\"lbfgs\",\n",
        "                               multi_class=\"multinomial\",\n",
        "                               max_iter=5000,\n",
        "                               C=10).fit(X_train_fin, y_train)\n",
        "#print(lr2_model_with_features.coef_)\n",
        "y_hat_lr2_test_features = lr2_model_with_features.predict(X_test_fin)\n",
        "\n",
        "y2_hat_lr2_test_features = lr2_model_with_features.predict(X2_test_fin)\n"
      ]
    },
    {
      "cell_type": "markdown",
      "metadata": {
        "id": "GoUO_Ao-TU-n"
      },
      "source": [
        "## Check the Logistic Regression Model with penalty and added features fit metrics (precision, recall, f1 score, support, accuracy and weighted average) for Primary Test Dataset"
      ]
    },
    {
      "cell_type": "code",
      "execution_count": 238,
      "metadata": {
        "colab": {
          "base_uri": "https://localhost:8080/"
        },
        "id": "NUudXZHsTU-n",
        "outputId": "9e7a6a0e-40b9-4879-9a1d-393ce19e274c"
      },
      "outputs": [
        {
          "output_type": "stream",
          "name": "stdout",
          "text": [
            "              precision    recall  f1-score   support\n",
            "\n",
            "     [False]       1.00      0.92      0.96       183\n",
            "      [True]       0.95      1.00      0.97       267\n",
            "\n",
            "    accuracy                           0.97       450\n",
            "   macro avg       0.97      0.96      0.96       450\n",
            "weighted avg       0.97      0.97      0.97       450\n",
            "\n"
          ]
        }
      ],
      "source": [
        "print(classification_report(y_test, y_hat_lr2_test_features))\n"
      ]
    },
    {
      "cell_type": "markdown",
      "metadata": {
        "id": "b5YJPkLtTU-o"
      },
      "source": [
        "## Check the Logistic Regression Model with penalty and added features fit metrics  for Secondary Test Dataset\n",
        "\n",
        "(precision, recall, f1 score, support, accuracy and weighted average)"
      ]
    },
    {
      "cell_type": "code",
      "execution_count": 239,
      "metadata": {
        "colab": {
          "base_uri": "https://localhost:8080/"
        },
        "id": "OC1MWGbITU-o",
        "outputId": "7f6814f6-9cb9-478d-c445-3c98889c006b"
      },
      "outputs": [
        {
          "output_type": "stream",
          "name": "stdout",
          "text": [
            "              precision    recall  f1-score   support\n",
            "\n",
            "     [False]       0.96      0.96      0.96       405\n",
            "      [True]       0.97      0.97      0.97       495\n",
            "\n",
            "    accuracy                           0.97       900\n",
            "   macro avg       0.97      0.97      0.97       900\n",
            "weighted avg       0.97      0.97      0.97       900\n",
            "\n"
          ]
        }
      ],
      "source": [
        "print(classification_report(y2_test, y2_hat_lr2_test_features))\n"
      ]
    },
    {
      "cell_type": "markdown",
      "metadata": {
        "id": "1D7EV5c3TU-o"
      },
      "source": [
        "## Creating Confusion Matrices for better visualization of results above"
      ]
    },
    {
      "cell_type": "code",
      "execution_count": 240,
      "metadata": {
        "colab": {
          "base_uri": "https://localhost:8080/"
        },
        "id": "rJkLyJwfTU-o",
        "outputId": "5019f81a-07b0-4682-9887-bd2dd0accc52"
      },
      "outputs": [
        {
          "output_type": "stream",
          "name": "stdout",
          "text": [
            "Secondary Dataset without features\n",
            "[[177 228]\n",
            " [ 42 453]]\n",
            "Secondary Dataset with features\n",
            "[[390  15]\n",
            " [ 15 480]]\n",
            "\n",
            "Primary Dataset without features\n",
            "[[174   9]\n",
            " [  2 265]]\n",
            "Primary Dataset with features\n",
            "[[168  15]\n",
            " [  0 267]]\n"
          ]
        }
      ],
      "source": [
        "print(\"Secondary Dataset without features\")\n",
        "cnf_matrix_without_features_secondary_test_dataset = metrics.confusion_matrix(y2_test, y2_hat_lr2_test)\n",
        "print(cnf_matrix_without_features_secondary_test_dataset)\n",
        "\n",
        "print(\"Secondary Dataset with features\")\n",
        "cnf_matrix_with_features_secondary_test_dataset = metrics.confusion_matrix(\n",
        "    y2_test, y2_hat_lr2_test_features)\n",
        "print(cnf_matrix_with_features_secondary_test_dataset)\n",
        "\n",
        "print(\"\\nPrimary Dataset without features\")\n",
        "cnf_matrix_without_features_primary_test_dataset = metrics.confusion_matrix(y_test, y_hat_lr2_test)\n",
        "print(cnf_matrix_without_features_primary_test_dataset)\n",
        "\n",
        "print(\"Primary Dataset with features\")\n",
        "cnf_matrix_with_features_primary_test_dataset = metrics.confusion_matrix(y_test, y_hat_lr2_test_features)\n",
        "print(cnf_matrix_with_features_primary_test_dataset)\n",
        "\n"
      ]
    },
    {
      "cell_type": "markdown",
      "metadata": {
        "id": "yPlg1_W8TU-p"
      },
      "source": [
        "## Confusion matrix for Primary test dataset without features"
      ]
    },
    {
      "cell_type": "code",
      "execution_count": 241,
      "metadata": {
        "colab": {
          "base_uri": "https://localhost:8080/",
          "height": 325
        },
        "id": "QfyMsQzXTU-p",
        "outputId": "455c9bbe-cffc-4d6a-a071-bc4de2ede7bf"
      },
      "outputs": [
        {
          "output_type": "display_data",
          "data": {
            "text/plain": [
              "<Figure size 432x288 with 2 Axes>"
            ],
            "image/png": "[encoded data removed]"
          },
          "metadata": {
            "needs_background": "light"
          }
        }
      ],
      "source": [
        "%matplotlib inline\n",
        "class_names = [\"False\", \"True\"]  # name  of classes\n",
        "fig, ax = plt.subplots()\n",
        "tick_marks = np.arange(len(class_names))\n",
        "plt.xticks([0,1], label=class_names)\n",
        "plt.yticks(tick_marks, label=class_names)\n",
        "# create heatmap\n",
        "sns.heatmap(pd.DataFrame(cnf_matrix_without_features_primary_test_dataset),\n",
        "            annot=True, cmap=\"YlGnBu\", fmt='g')\n",
        "ax.xaxis.set_label_position(\"top\")\n",
        "plt.tight_layout()\n",
        "plt.title('Confusion matrix for Primary test dataset without features', y=1.1)\n",
        "plt.ylabel('Actual label')\n",
        "plt.xlabel('Predicted label')\n",
        "plt.show()\n",
        "\n"
      ]
    },
    {
      "cell_type": "markdown",
      "metadata": {
        "id": "oLjzl_pxTU-p"
      },
      "source": [
        "## Confusion matrix for Primary test dataset with features"
      ]
    },
    {
      "cell_type": "code",
      "execution_count": 242,
      "metadata": {
        "colab": {
          "base_uri": "https://localhost:8080/",
          "height": 342
        },
        "id": "uAAT1aCvTU-q",
        "outputId": "d8bfac12-1894-43b6-b6a5-aad09bc10f22"
      },
      "outputs": [
        {
          "output_type": "execute_result",
          "data": {
            "text/plain": [
              "Text(0.5, 257.44, 'Predicted label')"
            ]
          },
          "metadata": {},
          "execution_count": 242
        },
        {
          "output_type": "display_data",
          "data": {
            "text/plain": [
              "<Figure size 432x288 with 2 Axes>"
            ],
            "image/png": "[encoded data removed]"
          },
          "metadata": {
            "needs_background": "light"
          }
        }
      ],
      "source": [
        "%matplotlib inline\n",
        "class_names = [\"False\", \"True\"]  # name  of classes\n",
        "fig, ax = plt.subplots()\n",
        "tick_marks = np.arange(len(class_names))\n",
        "plt.xticks(tick_marks, class_names)\n",
        "plt.yticks(tick_marks, class_names)\n",
        "# create heatmap\n",
        "sns.heatmap(pd.DataFrame(cnf_matrix_with_features_primary_test_dataset),\n",
        "            annot=True, cmap=\"YlGnBu\", fmt='g')\n",
        "ax.xaxis.set_label_position(\"top\")\n",
        "plt.tight_layout()\n",
        "plt.title('Confusion matrix for Primary test dataset with features', y=1.1)\n",
        "plt.ylabel('Actual label')\n",
        "plt.xlabel('Predicted label')\n"
      ]
    },
    {
      "cell_type": "markdown",
      "metadata": {
        "id": "MGop93tWTU-q"
      },
      "source": [
        "## Confusion matrix for Secondary test dataset without features"
      ]
    },
    {
      "cell_type": "code",
      "execution_count": 243,
      "metadata": {
        "colab": {
          "base_uri": "https://localhost:8080/",
          "height": 340
        },
        "id": "t1m8gx6GTU-q",
        "outputId": "7d0b7867-9024-4f80-dc76-9f02a716f74c"
      },
      "outputs": [
        {
          "output_type": "execute_result",
          "data": {
            "text/plain": [
              "Text(0.5, 257.44, 'Predicted label')"
            ]
          },
          "metadata": {},
          "execution_count": 243
        },
        {
          "output_type": "display_data",
          "data": {
            "text/plain": [
              "<Figure size 432x288 with 2 Axes>"
            ],
            "image/png": "[encoded data removed]"
          },
          "metadata": {
            "needs_background": "light"
          }
        }
      ],
      "source": [
        "%matplotlib inline\n",
        "class_names = [\"False\", \"True\"]  # name  of classes\n",
        "fig, ax = plt.subplots()\n",
        "tick_marks = np.arange(len(class_names))\n",
        "plt.xticks(tick_marks, class_names)\n",
        "plt.yticks(tick_marks, class_names)\n",
        "# create heatmap\n",
        "sns.heatmap(pd.DataFrame(cnf_matrix_without_features_secondary_test_dataset),\n",
        "            annot=True, cmap=\"YlGnBu\", fmt='g')\n",
        "ax.xaxis.set_label_position(\"top\")\n",
        "plt.tight_layout()\n",
        "plt.title('Confusion matrix for Secondary test dataset without features', y=1.1)\n",
        "plt.ylabel('Actual label')\n",
        "plt.xlabel('Predicted label')\n"
      ]
    },
    {
      "cell_type": "markdown",
      "metadata": {
        "id": "Ifg_mv6ZTU-r"
      },
      "source": [
        "## Confusion matrix for Secondary test dataset with features"
      ]
    },
    {
      "cell_type": "code",
      "execution_count": 244,
      "metadata": {
        "colab": {
          "base_uri": "https://localhost:8080/",
          "height": 342
        },
        "id": "rNSWFk72TU-r",
        "outputId": "a559916f-9caa-41d1-e055-cc0b843b88a5"
      },
      "outputs": [
        {
          "output_type": "execute_result",
          "data": {
            "text/plain": [
              "Text(0.5, 257.44, 'Predicted label')"
            ]
          },
          "metadata": {},
          "execution_count": 244
        },
        {
          "output_type": "display_data",
          "data": {
            "text/plain": [
              "<Figure size 432x288 with 2 Axes>"
            ],
            "image/png": "[encoded data removed]"
          },
          "metadata": {
            "needs_background": "light"
          }
        }
      ],
      "source": [
        "%matplotlib inline\n",
        "class_names = [\"False\", \"True\"]  # name  of classes\n",
        "fig, ax = plt.subplots()\n",
        "tick_marks = np.arange(len(class_names))\n",
        "plt.xticks(tick_marks, class_names)\n",
        "plt.yticks(tick_marks, class_names)\n",
        "# create heatmap\n",
        "sns.heatmap(pd.DataFrame(cnf_matrix_with_features_secondary_test_dataset),\n",
        "            annot=True, cmap=\"YlGnBu\", fmt='g')\n",
        "ax.xaxis.set_label_position(\"top\")\n",
        "plt.tight_layout()\n",
        "plt.title('Confusion matrix for Secondary test dataset with features', y=1.1)\n",
        "plt.ylabel('Actual label')\n",
        "plt.xlabel('Predicted label')\n"
      ]
    },
    {
      "cell_type": "markdown",
      "metadata": {
        "id": "cGlhxOupTU-r"
      },
      "source": [
        "## Plotting accuracies for Logistic Regression, Logistic regression with Penalty and Logistic Regression with penalty and added features"
      ]
    },
    {
      "cell_type": "code",
      "execution_count": 245,
      "metadata": {
        "colab": {
          "base_uri": "https://localhost:8080/",
          "height": 1000
        },
        "id": "NkLq3qzNTU-r",
        "outputId": "05566f04-2963-467c-db48-be1fa9305bf0"
      },
      "outputs": [
        {
          "output_type": "stream",
          "name": "stderr",
          "text": [
            "/usr/local/lib/python3.8/dist-packages/sklearn/utils/validation.py:593: FutureWarning: np.matrix usage is deprecated in 1.0 and will raise a TypeError in 1.2. Please convert to a numpy array with np.asarray. For more information see: https://numpy.org/doc/stable/reference/generated/numpy.matrix.html\n",
            "  warnings.warn(\n",
            "/usr/local/lib/python3.8/dist-packages/sklearn/utils/validation.py:593: FutureWarning: np.matrix usage is deprecated in 1.0 and will raise a TypeError in 1.2. Please convert to a numpy array with np.asarray. For more information see: https://numpy.org/doc/stable/reference/generated/numpy.matrix.html\n",
            "  warnings.warn(\n",
            "/usr/local/lib/python3.8/dist-packages/sklearn/utils/validation.py:593: FutureWarning: np.matrix usage is deprecated in 1.0 and will raise a TypeError in 1.2. Please convert to a numpy array with np.asarray. For more information see: https://numpy.org/doc/stable/reference/generated/numpy.matrix.html\n",
            "  warnings.warn(\n"
          ]
        },
        {
          "output_type": "display_data",
          "data": {
            "text/plain": [
              "<Figure size 1080x1080 with 1 Axes>"
            ],
            "image/png": "[encoded data removed]"
          },
          "metadata": {
            "needs_background": "light"
          }
        }
      ],
      "source": [
        "models_used = {\"Logistic Regression\": lr_model,\n",
        "               \"Logistic regression with L2 penalty\": lr2_model, \"Logistic regression with L2 penalty and added features\": lr2_model_with_features}\n",
        "plot_data = []\n",
        "\n",
        "for name, model in models_used.items():\n",
        "    if(model == lr2_model_with_features):\n",
        "        train_acc = accuracy_score(y_train, model.predict(X_train_fin))\n",
        "        plot_data.append([name, \"Train data\", train_acc])\n",
        "        test_acc_pd = accuracy_score(y_test, model.predict(X_test_fin))\n",
        "        plot_data.append([name, \"Primary Test data\", test_acc_pd])\n",
        "        test_acc_sd = accuracy_score(y2_test, model.predict(X2_test_fin))\n",
        "        plot_data.append([name, \"Secondary Test data\", test_acc_pd])\n",
        "    else:\n",
        "        train_acc = accuracy_score(y_train, model.predict(X_train))\n",
        "        plot_data.append([name, \"Train data\", train_acc])\n",
        "        test_acc_pd = accuracy_score(y_test, model.predict(X_test))\n",
        "        plot_data.append([name, \"Primary Test data\", test_acc_pd])\n",
        "        test_acc_sd = accuracy_score(y2_test, model.predict(X2_test))\n",
        "        plot_data.append([name, \"Secondary Test data\", test_acc_pd])\n",
        "plt.figure(figsize=(15, 15))\n",
        "plt.ylim((0.5, 1))\n",
        "plot_df = pd.DataFrame(plot_data, columns=[\"model\", \"dataset\", \"accuracy\"])\n",
        "sns.lineplot(data=plot_df,\n",
        "             sort=False,\n",
        "             x=\"dataset\",\n",
        "             y=\"accuracy\",\n",
        "             hue=\"model\")\n",
        "plt.show()\n"
      ]
    },
    {
      "cell_type": "markdown",
      "source": [
        "# Bag of words using Keras "
      ],
      "metadata": {
        "id": "r3QQ1t3xqqEx"
      }
    },
    {
      "cell_type": "code",
      "source": [
        "#import packages \n",
        "import itertools\n",
        "import os\n",
        "\n",
        "%matplotlib inline\n",
        "import matplotlib.pyplot as plt\n",
        "import numpy as np\n",
        "import pandas as pd\n",
        "import tensorflow as tf\n",
        "\n",
        "from sklearn.preprocessing import LabelBinarizer, LabelEncoder\n",
        "from sklearn.metrics import confusion_matrix\n",
        "\n",
        "from tensorflow import keras\n",
        "from keras.models import Sequential\n",
        "from keras.layers import Dense, Activation, Dropout\n",
        "from keras.preprocessing import text, sequence\n",
        "from keras import utils"
      ],
      "metadata": {
        "id": "5GciynYEq2XL"
      },
      "execution_count": 246,
      "outputs": []
    },
    {
      "cell_type": "code",
      "source": [
        "data = pd.read_csv('/content/drive/MyDrive/Colab Notebooks/Merged files/merged-csv-files.csv')"
      ],
      "metadata": {
        "id": "7TDA7MF69_Ab"
      },
      "execution_count": 247,
      "outputs": []
    },
    {
      "cell_type": "code",
      "source": [
        "train_size = int(len(data) * .7)\n",
        "print (\"Train size: %d\" % train_size)\n",
        "print (\"Test size: %d\" % (len(data) - train_size))"
      ],
      "metadata": {
        "colab": {
          "base_uri": "https://localhost:8080/"
        },
        "id": "kruhdKI2uBsF",
        "outputId": "d4fee8c8-a359-4eaf-ca35-edb6789cc3fb"
      },
      "execution_count": 248,
      "outputs": [
        {
          "output_type": "stream",
          "name": "stdout",
          "text": [
            "Train size: 1050\n",
            "Test size: 450\n"
          ]
        }
      ]
    },
    {
      "cell_type": "code",
      "source": [
        "train_text = data['text'][:train_size]\n",
        "train_max_freq_val = data['max_freq_val'][:train_size]\n",
        "\n",
        "test_text = data['text'][train_size:]\n",
        "test_max_freq_val = data['max_freq_val'][train_size:]"
      ],
      "metadata": {
        "id": "ODu9j0nlvl6Y"
      },
      "execution_count": 249,
      "outputs": []
    },
    {
      "cell_type": "code",
      "source": [
        "max_words = 1000\n",
        "tokenize = text.Tokenizer(num_words=max_words, char_level=False)"
      ],
      "metadata": {
        "id": "nzLAbJ1qx7uK"
      },
      "execution_count": 250,
      "outputs": []
    },
    {
      "cell_type": "code",
      "source": [
        "tokenize.fit_on_texts(train_text) # only fit on train\n",
        "X_train = tokenize.texts_to_matrix(train_text)\n",
        "X_test = tokenize.texts_to_matrix(test_text)"
      ],
      "metadata": {
        "id": "ICUcd4foyUAg"
      },
      "execution_count": 251,
      "outputs": []
    },
    {
      "cell_type": "code",
      "source": [
        "encoder = LabelEncoder()\n",
        "encoder.fit(train_max_freq_val)\n",
        "y_train = encoder.transform(train_max_freq_val)\n",
        "y_test = encoder.transform(test_max_freq_val)"
      ],
      "metadata": {
        "id": "9ABrYuo0y1QJ"
      },
      "execution_count": 252,
      "outputs": []
    },
    {
      "cell_type": "code",
      "source": [
        "num_classes = np.max(y_train) + 1\n",
        "y_train = utils.to_categorical(y_train, num_classes)\n",
        "y_test = utils.to_categorical(y_test, num_classes)"
      ],
      "metadata": {
        "id": "clf4g4vWzJ9B"
      },
      "execution_count": 253,
      "outputs": []
    },
    {
      "cell_type": "code",
      "source": [
        "print('X_train shape:', X_train.shape)\n",
        "print('X_test shape:', X_test.shape)\n",
        "print('y_train shape:', y_train.shape)\n",
        "print('y_test shape:', y_test.shape)"
      ],
      "metadata": {
        "colab": {
          "base_uri": "https://localhost:8080/"
        },
        "id": "ggTr3sVfzjiz",
        "outputId": "6ec75d4b-1616-4c34-e30f-91adf70b460c"
      },
      "execution_count": 254,
      "outputs": [
        {
          "output_type": "stream",
          "name": "stdout",
          "text": [
            "X_train shape: (1050, 1000)\n",
            "X_test shape: (450, 1000)\n",
            "y_train shape: (1050, 2)\n",
            "y_test shape: (450, 2)\n"
          ]
        }
      ]
    },
    {
      "cell_type": "code",
      "source": [
        "batch_size = 32\n",
        "epochs = 2"
      ],
      "metadata": {
        "id": "xv-5zbjzzsPL"
      },
      "execution_count": 255,
      "outputs": []
    },
    {
      "cell_type": "code",
      "source": [
        "# Build the model\n",
        "model = Sequential()\n",
        "model.add(Dense(512, input_shape=(max_words,)))\n",
        "model.add(Activation('relu'))\n",
        "model.add(Dropout(0.5))\n",
        "model.add(Dense(num_classes))\n",
        "model.add(Activation('softmax'))\n",
        "\n",
        "model.compile(loss='categorical_crossentropy',\n",
        "              optimizer='adam',\n",
        "              metrics=['accuracy'])"
      ],
      "metadata": {
        "id": "UCAu75iizwLK"
      },
      "execution_count": 256,
      "outputs": []
    },
    {
      "cell_type": "code",
      "source": [
        "history = model.fit(X_train, y_train,\n",
        "                    batch_size=batch_size,\n",
        "                    epochs=epochs,\n",
        "                    verbose=1,\n",
        "                    validation_split=0.1)"
      ],
      "metadata": {
        "colab": {
          "base_uri": "https://localhost:8080/"
        },
        "id": "_e-5eJWoz_rB",
        "outputId": "bf655c08-b0e0-4ac3-ecb8-59fff78de2b2"
      },
      "execution_count": 257,
      "outputs": [
        {
          "output_type": "stream",
          "name": "stdout",
          "text": [
            "Epoch 1/2\n",
            "30/30 [==============================] - 1s 13ms/step - loss: 0.4986 - accuracy: 0.7661 - val_loss: 0.2566 - val_accuracy: 0.9238\n",
            "Epoch 2/2\n",
            "30/30 [==============================] - 0s 8ms/step - loss: 0.1910 - accuracy: 0.9598 - val_loss: 0.1113 - val_accuracy: 0.9714\n"
          ]
        }
      ]
    },
    {
      "cell_type": "code",
      "source": [
        "score = model.evaluate(X_test, y_test,\n",
        "                       batch_size=batch_size, verbose=1)\n",
        "print('Test accuracy:', score[1])"
      ],
      "metadata": {
        "colab": {
          "base_uri": "https://localhost:8080/"
        },
        "id": "ekms3a490DuT",
        "outputId": "95948d30-ffec-4aa8-8c5b-ba7a21caa330"
      },
      "execution_count": 258,
      "outputs": [
        {
          "output_type": "stream",
          "name": "stdout",
          "text": [
            "15/15 [==============================] - 0s 3ms/step - loss: 0.1058 - accuracy: 0.9889\n",
            "Test accuracy: 0.9888888597488403\n"
          ]
        }
      ]
    },
    {
      "cell_type": "code",
      "source": [
        "from dataclasses import replace\n",
        "df = pd.read_csv('/content/drive/MyDrive/Colab Notebooks/Merged files/merged-csv-files.csv')\n",
        "df.head(5)"
      ],
      "metadata": {
        "colab": {
          "base_uri": "https://localhost:8080/",
          "height": 206
        },
        "id": "GsWSIvT0DQFy",
        "outputId": "2454aaab-eac3-4ff7-a363-f6b6c819d961"
      },
      "execution_count": null,
      "outputs": [
        {
          "output_type": "execute_result",
          "data": {
            "text/plain": [
              "                                                text max_freq_val\n",
              "0  \\n\\n\\n\\n\\n\\n\\n#CovidVaccine\\n#WaitForVaccine… ...       [True]\n",
              "1  CDC Updates School Guidelines For Students Ret...      [False]\n",
              "2  Who will get the first doses of a coronavirus ...       [True]\n",
              "3  CDC puts in place new guidelines on masks in s...      [False]\n",
              "4  People who are fully vaccinated can travel wit...       [True]"
            ],
            "text/html": [
              "\n",
              "  <div id=\"df-908d2062-e993-494f-9d2e-0af964370298\">\n",
              "    <div class=\"colab-df-container\">\n",
              "      <div>\n",
              "<style scoped>\n",
              "    .dataframe tbody tr th:only-of-type {\n",
              "        vertical-align: middle;\n",
              "    }\n",
              "\n",
              "    .dataframe tbody tr th {\n",
              "        vertical-align: top;\n",
              "    }\n",
              "\n",
              "    .dataframe thead th {\n",
              "        text-align: right;\n",
              "    }\n",
              "</style>\n",
              "<table border=\"1\" class=\"dataframe\">\n",
              "  <thead>\n",
              "    <tr style=\"text-align: right;\">\n",
              "      <th></th>\n",
              "      <th>text</th>\n",
              "      <th>max_freq_val</th>\n",
              "    </tr>\n",
              "  </thead>\n",
              "  <tbody>\n",
              "    <tr>\n",
              "      <th>0</th>\n",
              "      <td>\\n\\n\\n\\n\\n\\n\\n#CovidVaccine\\n#WaitForVaccine… ...</td>\n",
              "      <td>[True]</td>\n",
              "    </tr>\n",
              "    <tr>\n",
              "      <th>1</th>\n",
              "      <td>CDC Updates School Guidelines For Students Ret...</td>\n",
              "      <td>[False]</td>\n",
              "    </tr>\n",
              "    <tr>\n",
              "      <th>2</th>\n",
              "      <td>Who will get the first doses of a coronavirus ...</td>\n",
              "      <td>[True]</td>\n",
              "    </tr>\n",
              "    <tr>\n",
              "      <th>3</th>\n",
              "      <td>CDC puts in place new guidelines on masks in s...</td>\n",
              "      <td>[False]</td>\n",
              "    </tr>\n",
              "    <tr>\n",
              "      <th>4</th>\n",
              "      <td>People who are fully vaccinated can travel wit...</td>\n",
              "      <td>[True]</td>\n",
              "    </tr>\n",
              "  </tbody>\n",
              "</table>\n",
              "</div>\n",
              "      <button class=\"colab-df-convert\" onclick=\"convertToInteractive('df-908d2062-e993-494f-9d2e-0af964370298')\"\n",
              "              title=\"Convert this dataframe to an interactive table.\"\n",
              "              style=\"display:none;\">\n",
              "        \n",
              "  <svg xmlns=\"http://www.w3.org/2000/svg\" height=\"24px\"viewBox=\"0 0 24 24\"\n",
              "       width=\"24px\">\n",
              "    <path d=\"M0 0h24v24H0V0z\" fill=\"none\"/>\n",
              "    <path d=\"M18.56 5.44l.94 2.06.94-2.06 2.06-.94-2.06-.94-.94-2.06-.94 2.06-2.06.94zm-11 1L8.5 8.5l.94-2.06 2.06-.94-2.06-.94L8.5 2.5l-.94 2.06-2.06.94zm10 10l.94 2.06.94-2.06 2.06-.94-2.06-.94-.94-2.06-.94 2.06-2.06.94z\"/><path d=\"M17.41 7.96l-1.37-1.37c-.4-.4-.92-.59-1.43-.59-.52 0-1.04.2-1.43.59L10.3 9.45l-7.72 7.72c-.78.78-.78 2.05 0 2.83L4 21.41c.39.39.9.59 1.41.59.51 0 1.02-.2 1.41-.59l7.78-7.78 2.81-2.81c.8-.78.8-2.07 0-2.86zM5.41 20L4 18.59l7.72-7.72 1.47 1.35L5.41 20z\"/>\n",
              "  </svg>\n",
              "      </button>\n",
              "      \n",
              "  <style>\n",
              "    .colab-df-container {\n",
              "      display:flex;\n",
              "      flex-wrap:wrap;\n",
              "      gap: 12px;\n",
              "    }\n",
              "\n",
              "    .colab-df-convert {\n",
              "      background-color: #E8F0FE;\n",
              "      border: none;\n",
              "      border-radius: 50%;\n",
              "      cursor: pointer;\n",
              "      display: none;\n",
              "      fill: #1967D2;\n",
              "      height: 32px;\n",
              "      padding: 0 0 0 0;\n",
              "      width: 32px;\n",
              "    }\n",
              "\n",
              "    .colab-df-convert:hover {\n",
              "      background-color: #E2EBFA;\n",
              "      box-shadow: 0px 1px 2px rgba(60, 64, 67, 0.3), 0px 1px 3px 1px rgba(60, 64, 67, 0.15);\n",
              "      fill: #174EA6;\n",
              "    }\n",
              "\n",
              "    [theme=dark] .colab-df-convert {\n",
              "      background-color: #3B4455;\n",
              "      fill: #D2E3FC;\n",
              "    }\n",
              "\n",
              "    [theme=dark] .colab-df-convert:hover {\n",
              "      background-color: #434B5C;\n",
              "      box-shadow: 0px 1px 3px 1px rgba(0, 0, 0, 0.15);\n",
              "      filter: drop-shadow(0px 1px 2px rgba(0, 0, 0, 0.3));\n",
              "      fill: #FFFFFF;\n",
              "    }\n",
              "  </style>\n",
              "\n",
              "      <script>\n",
              "        const buttonEl =\n",
              "          document.querySelector('#df-908d2062-e993-494f-9d2e-0af964370298 button.colab-df-convert');\n",
              "        buttonEl.style.display =\n",
              "          google.colab.kernel.accessAllowed ? 'block' : 'none';\n",
              "\n",
              "        async function convertToInteractive(key) {\n",
              "          const element = document.querySelector('#df-908d2062-e993-494f-9d2e-0af964370298');\n",
              "          const dataTable =\n",
              "            await google.colab.kernel.invokeFunction('convertToInteractive',\n",
              "                                                     [key], {});\n",
              "          if (!dataTable) return;\n",
              "\n",
              "          const docLinkHtml = 'Like what you see? Visit the ' +\n",
              "            '<a target=\"_blank\" href=https://colab.research.google.com/notebooks/data_table.ipynb>data table notebook</a>'\n",
              "            + ' to learn more about interactive tables.';\n",
              "          element.innerHTML = '';\n",
              "          dataTable['output_type'] = 'display_data';\n",
              "          await google.colab.output.renderOutput(dataTable, element);\n",
              "          const docLink = document.createElement('div');\n",
              "          docLink.innerHTML = docLinkHtml;\n",
              "          element.appendChild(docLink);\n",
              "        }\n",
              "      </script>\n",
              "    </div>\n",
              "  </div>\n",
              "  "
            ]
          },
          "metadata": {},
          "execution_count": 219
        }
      ]
    },
    {
      "cell_type": "code",
      "source": [
        "import nltk\n",
        "nltk.download('stopwords')\n",
        "stopword = nltk.corpus.stopwords.words('english')\n",
        "print(stopword[:11])"
      ],
      "metadata": {
        "colab": {
          "base_uri": "https://localhost:8080/"
        },
        "id": "IktV578-gPqg",
        "outputId": "d74088a6-15e4-40e5-e175-5ebe14866484"
      },
      "execution_count": null,
      "outputs": [
        {
          "output_type": "stream",
          "name": "stdout",
          "text": [
            "['i', 'me', 'my', 'myself', 'we', 'our', 'ours', 'ourselves', 'you', \"you're\", \"you've\"]\n"
          ]
        },
        {
          "output_type": "stream",
          "name": "stderr",
          "text": [
            "[nltk_data] Downloading package stopwords to /root/nltk_data...\n",
            "[nltk_data]   Package stopwords is already up-to-date!\n"
          ]
        }
      ]
    },
    {
      "cell_type": "code",
      "source": [
        "#remove stopwords \n",
        "def remove_stopwords(text):\n",
        "    text=[word for word in text if word not in stopword]\n",
        "    return text\n",
        "df['title_wo_punct_split_wo_stopwords'] = df['title_wo_punct_split'].apply(lambda x: remove_stopwords(x))\n",
        "df.head()"
      ],
      "metadata": {
        "colab": {
          "base_uri": "https://localhost:8080/",
          "height": 392
        },
        "id": "PJec7m59gR_g",
        "outputId": "8f268d22-7fa4-43a7-fb2a-e4b76dde2725"
      },
      "execution_count": null,
      "outputs": [
        {
          "output_type": "execute_result",
          "data": {
            "text/plain": [
              "                                                text max_freq_val  \\\n",
              "0  \\n\\n\\n\\n\\n\\n\\n#CovidVaccine\\n#WaitForVaccine… ...       [True]   \n",
              "1  CDC Updates School Guidelines For Students Ret...      [False]   \n",
              "2  Who will get the first doses of a coronavirus ...       [True]   \n",
              "3  CDC puts in place new guidelines on masks in s...      [False]   \n",
              "4  People who are fully vaccinated can travel wit...       [True]   \n",
              "\n",
              "                                      title_wo_punct  \\\n",
              "0  \\n\\n\\n\\n\\n\\n\\nCovidVaccine\\nWaitForVaccine… ht...   \n",
              "1  CDC Updates School Guidelines For Students Ret...   \n",
              "2  Who will get the first doses of a coronavirus ...   \n",
              "3  CDC puts in place new guidelines on masks in s...   \n",
              "4  People who are fully vaccinated can travel wit...   \n",
              "\n",
              "                                title_wo_punct_split  \\\n",
              "0  [, covidvaccine, waitforvaccine, httpstcoghykg...   \n",
              "1  [cdc, updates, school, guidelines, for, studen...   \n",
              "2  [who, will, get, the, first, doses, of, a, cor...   \n",
              "3  [cdc, puts, in, place, new, guidelines, on, ma...   \n",
              "4  [people, who, are, fully, vaccinated, can, tra...   \n",
              "\n",
              "                   title_wo_punct_split_wo_stopwords  \n",
              "0  [, covidvaccine, waitforvaccine, httpstcoghykg...  \n",
              "1  [cdc, updates, school, guidelines, students, r...  \n",
              "2  [get, first, doses, coronavirus, vaccine, expe...  \n",
              "3  [cdc, puts, place, new, guidelines, masks, sch...  \n",
              "4  [people, fully, vaccinated, travel, within, us...  "
            ],
            "text/html": [
              "\n",
              "  <div id=\"df-5db0b1df-841c-4ec5-a233-a6edc7bd5fb7\">\n",
              "    <div class=\"colab-df-container\">\n",
              "      <div>\n",
              "<style scoped>\n",
              "    .dataframe tbody tr th:only-of-type {\n",
              "        vertical-align: middle;\n",
              "    }\n",
              "\n",
              "    .dataframe tbody tr th {\n",
              "        vertical-align: top;\n",
              "    }\n",
              "\n",
              "    .dataframe thead th {\n",
              "        text-align: right;\n",
              "    }\n",
              "</style>\n",
              "<table border=\"1\" class=\"dataframe\">\n",
              "  <thead>\n",
              "    <tr style=\"text-align: right;\">\n",
              "      <th></th>\n",
              "      <th>text</th>\n",
              "      <th>max_freq_val</th>\n",
              "      <th>title_wo_punct</th>\n",
              "      <th>title_wo_punct_split</th>\n",
              "      <th>title_wo_punct_split_wo_stopwords</th>\n",
              "    </tr>\n",
              "  </thead>\n",
              "  <tbody>\n",
              "    <tr>\n",
              "      <th>0</th>\n",
              "      <td>\\n\\n\\n\\n\\n\\n\\n#CovidVaccine\\n#WaitForVaccine… ...</td>\n",
              "      <td>[True]</td>\n",
              "      <td>\\n\\n\\n\\n\\n\\n\\nCovidVaccine\\nWaitForVaccine… ht...</td>\n",
              "      <td>[, covidvaccine, waitforvaccine, httpstcoghykg...</td>\n",
              "      <td>[, covidvaccine, waitforvaccine, httpstcoghykg...</td>\n",
              "    </tr>\n",
              "    <tr>\n",
              "      <th>1</th>\n",
              "      <td>CDC Updates School Guidelines For Students Ret...</td>\n",
              "      <td>[False]</td>\n",
              "      <td>CDC Updates School Guidelines For Students Ret...</td>\n",
              "      <td>[cdc, updates, school, guidelines, for, studen...</td>\n",
              "      <td>[cdc, updates, school, guidelines, students, r...</td>\n",
              "    </tr>\n",
              "    <tr>\n",
              "      <th>2</th>\n",
              "      <td>Who will get the first doses of a coronavirus ...</td>\n",
              "      <td>[True]</td>\n",
              "      <td>Who will get the first doses of a coronavirus ...</td>\n",
              "      <td>[who, will, get, the, first, doses, of, a, cor...</td>\n",
              "      <td>[get, first, doses, coronavirus, vaccine, expe...</td>\n",
              "    </tr>\n",
              "    <tr>\n",
              "      <th>3</th>\n",
              "      <td>CDC puts in place new guidelines on masks in s...</td>\n",
              "      <td>[False]</td>\n",
              "      <td>CDC puts in place new guidelines on masks in s...</td>\n",
              "      <td>[cdc, puts, in, place, new, guidelines, on, ma...</td>\n",
              "      <td>[cdc, puts, place, new, guidelines, masks, sch...</td>\n",
              "    </tr>\n",
              "    <tr>\n",
              "      <th>4</th>\n",
              "      <td>People who are fully vaccinated can travel wit...</td>\n",
              "      <td>[True]</td>\n",
              "      <td>People who are fully vaccinated can travel wit...</td>\n",
              "      <td>[people, who, are, fully, vaccinated, can, tra...</td>\n",
              "      <td>[people, fully, vaccinated, travel, within, us...</td>\n",
              "    </tr>\n",
              "  </tbody>\n",
              "</table>\n",
              "</div>\n",
              "      <button class=\"colab-df-convert\" onclick=\"convertToInteractive('df-5db0b1df-841c-4ec5-a233-a6edc7bd5fb7')\"\n",
              "              title=\"Convert this dataframe to an interactive table.\"\n",
              "              style=\"display:none;\">\n",
              "        \n",
              "  <svg xmlns=\"http://www.w3.org/2000/svg\" height=\"24px\"viewBox=\"0 0 24 24\"\n",
              "       width=\"24px\">\n",
              "    <path d=\"M0 0h24v24H0V0z\" fill=\"none\"/>\n",
              "    <path d=\"M18.56 5.44l.94 2.06.94-2.06 2.06-.94-2.06-.94-.94-2.06-.94 2.06-2.06.94zm-11 1L8.5 8.5l.94-2.06 2.06-.94-2.06-.94L8.5 2.5l-.94 2.06-2.06.94zm10 10l.94 2.06.94-2.06 2.06-.94-2.06-.94-.94-2.06-.94 2.06-2.06.94z\"/><path d=\"M17.41 7.96l-1.37-1.37c-.4-.4-.92-.59-1.43-.59-.52 0-1.04.2-1.43.59L10.3 9.45l-7.72 7.72c-.78.78-.78 2.05 0 2.83L4 21.41c.39.39.9.59 1.41.59.51 0 1.02-.2 1.41-.59l7.78-7.78 2.81-2.81c.8-.78.8-2.07 0-2.86zM5.41 20L4 18.59l7.72-7.72 1.47 1.35L5.41 20z\"/>\n",
              "  </svg>\n",
              "      </button>\n",
              "      \n",
              "  <style>\n",
              "    .colab-df-container {\n",
              "      display:flex;\n",
              "      flex-wrap:wrap;\n",
              "      gap: 12px;\n",
              "    }\n",
              "\n",
              "    .colab-df-convert {\n",
              "      background-color: #E8F0FE;\n",
              "      border: none;\n",
              "      border-radius: 50%;\n",
              "      cursor: pointer;\n",
              "      display: none;\n",
              "      fill: #1967D2;\n",
              "      height: 32px;\n",
              "      padding: 0 0 0 0;\n",
              "      width: 32px;\n",
              "    }\n",
              "\n",
              "    .colab-df-convert:hover {\n",
              "      background-color: #E2EBFA;\n",
              "      box-shadow: 0px 1px 2px rgba(60, 64, 67, 0.3), 0px 1px 3px 1px rgba(60, 64, 67, 0.15);\n",
              "      fill: #174EA6;\n",
              "    }\n",
              "\n",
              "    [theme=dark] .colab-df-convert {\n",
              "      background-color: #3B4455;\n",
              "      fill: #D2E3FC;\n",
              "    }\n",
              "\n",
              "    [theme=dark] .colab-df-convert:hover {\n",
              "      background-color: #434B5C;\n",
              "      box-shadow: 0px 1px 3px 1px rgba(0, 0, 0, 0.15);\n",
              "      filter: drop-shadow(0px 1px 2px rgba(0, 0, 0, 0.3));\n",
              "      fill: #FFFFFF;\n",
              "    }\n",
              "  </style>\n",
              "\n",
              "      <script>\n",
              "        const buttonEl =\n",
              "          document.querySelector('#df-5db0b1df-841c-4ec5-a233-a6edc7bd5fb7 button.colab-df-convert');\n",
              "        buttonEl.style.display =\n",
              "          google.colab.kernel.accessAllowed ? 'block' : 'none';\n",
              "\n",
              "        async function convertToInteractive(key) {\n",
              "          const element = document.querySelector('#df-5db0b1df-841c-4ec5-a233-a6edc7bd5fb7');\n",
              "          const dataTable =\n",
              "            await google.colab.kernel.invokeFunction('convertToInteractive',\n",
              "                                                     [key], {});\n",
              "          if (!dataTable) return;\n",
              "\n",
              "          const docLinkHtml = 'Like what you see? Visit the ' +\n",
              "            '<a target=\"_blank\" href=https://colab.research.google.com/notebooks/data_table.ipynb>data table notebook</a>'\n",
              "            + ' to learn more about interactive tables.';\n",
              "          element.innerHTML = '';\n",
              "          dataTable['output_type'] = 'display_data';\n",
              "          await google.colab.output.renderOutput(dataTable, element);\n",
              "          const docLink = document.createElement('div');\n",
              "          docLink.innerHTML = docLinkHtml;\n",
              "          element.appendChild(docLink);\n",
              "        }\n",
              "      </script>\n",
              "    </div>\n",
              "  </div>\n",
              "  "
            ]
          },
          "metadata": {},
          "execution_count": 224
        }
      ]
    },
    {
      "cell_type": "markdown",
      "source": [
        "#  Word frequency for Primary data set "
      ],
      "metadata": {
        "id": "ARGPH9YtAhGT"
      }
    },
    {
      "cell_type": "code",
      "source": [
        "import nltk\n",
        "import pandas as pd\n",
        "from nltk.corpus import stopwords\n",
        "from nltk.tokenize import word_tokenize\n",
        "from nltk.stem import WordNetLemmatizer\n",
        "from nltk import ngrams\n",
        "from collections import Counter\n",
        "import seaborn as sns\n",
        "import matplotlib.pyplot as plt\n",
        "nltk.download('stopwords')\n",
        "nltk.download('wordnet')\n",
        "nltk.download('omw-1.4')"
      ],
      "metadata": {
        "id": "Ov-7g735sxHv",
        "colab": {
          "base_uri": "https://localhost:8080/"
        },
        "outputId": "4f25690d-4565-4211-f6d4-466a071f3502"
      },
      "execution_count": 260,
      "outputs": [
        {
          "output_type": "stream",
          "name": "stderr",
          "text": [
            "[nltk_data] Downloading package stopwords to /root/nltk_data...\n",
            "[nltk_data]   Package stopwords is already up-to-date!\n",
            "[nltk_data] Downloading package wordnet to /root/nltk_data...\n",
            "[nltk_data] Downloading package omw-1.4 to /root/nltk_data...\n"
          ]
        },
        {
          "output_type": "execute_result",
          "data": {
            "text/plain": [
              "True"
            ]
          },
          "metadata": {},
          "execution_count": 260
        }
      ]
    },
    {
      "cell_type": "code",
      "source": [
        "df = pd.read_csv('/content/drive/MyDrive/Colab Notebooks/Merged files/merged-csv-files.csv')\n",
        "df.dtypes\n"
      ],
      "metadata": {
        "colab": {
          "base_uri": "https://localhost:8080/"
        },
        "id": "CE2U27pD5NEg",
        "outputId": "83ef2895-114a-4ae0-cd03-e03ba1b13f0c"
      },
      "execution_count": 261,
      "outputs": [
        {
          "output_type": "execute_result",
          "data": {
            "text/plain": [
              "text            object\n",
              "max_freq_val    object\n",
              "dtype: object"
            ]
          },
          "metadata": {},
          "execution_count": 261
        }
      ]
    },
    {
      "cell_type": "code",
      "source": [
        "df.info()"
      ],
      "metadata": {
        "colab": {
          "base_uri": "https://localhost:8080/"
        },
        "id": "fsv86Oqn7WSJ",
        "outputId": "dbc79758-445e-41e8-a78a-79f59803008e"
      },
      "execution_count": 262,
      "outputs": [
        {
          "output_type": "stream",
          "name": "stdout",
          "text": [
            "<class 'pandas.core.frame.DataFrame'>\n",
            "RangeIndex: 1500 entries, 0 to 1499\n",
            "Data columns (total 2 columns):\n",
            " #   Column        Non-Null Count  Dtype \n",
            "---  ------        --------------  ----- \n",
            " 0   text          1500 non-null   object\n",
            " 1   max_freq_val  1500 non-null   object\n",
            "dtypes: object(2)\n",
            "memory usage: 23.6+ KB\n"
          ]
        }
      ]
    },
    {
      "cell_type": "code",
      "source": [
        "import nltk\n",
        "nltk.download('punkt')\n"
      ],
      "metadata": {
        "colab": {
          "base_uri": "https://localhost:8080/"
        },
        "id": "yRDVn1e47bq5",
        "outputId": "ae03fbe0-53c9-46ea-9e40-9fb20bc1a28c"
      },
      "execution_count": 263,
      "outputs": [
        {
          "output_type": "stream",
          "name": "stderr",
          "text": [
            "[nltk_data] Downloading package punkt to /root/nltk_data...\n",
            "[nltk_data]   Unzipping tokenizers/punkt.zip.\n"
          ]
        },
        {
          "output_type": "execute_result",
          "data": {
            "text/plain": [
              "True"
            ]
          },
          "metadata": {},
          "execution_count": 263
        }
      ]
    },
    {
      "cell_type": "code",
      "source": [
        "tweets= \" \".join(df['text'])\n",
        "words = word_tokenize(tweets)"
      ],
      "metadata": {
        "id": "P_9f1Ov_so--"
      },
      "execution_count": 264,
      "outputs": []
    },
    {
      "cell_type": "code",
      "source": [
        "def clean_words(new_tokens):\n",
        "  new_tokens = [t.lower() for t in new_tokens]\n",
        "  new_tokens = [t for t in new_tokens if t not in stopwords.words('english')]\n",
        "  new_tokens = [t for t in new_tokens if t.isalpha()]\n",
        "  lemmatizer = WordNetLemmatizer()\n",
        "  new_tokens = [lemmatizer.lemmatize(t) for t in new_tokens]\n",
        "  return new_tokens"
      ],
      "metadata": {
        "id": "9hPaEXuMsyXk"
      },
      "execution_count": 265,
      "outputs": []
    },
    {
      "cell_type": "code",
      "source": [
        "import nltk\n",
        "nltk.download('stopwords')\n",
        "nltk.download('wordnet')\n",
        "nltk.download('omw-1.4')"
      ],
      "metadata": {
        "colab": {
          "base_uri": "https://localhost:8080/"
        },
        "id": "Gx04D4s77IJA",
        "outputId": "da019504-37e5-426c-d198-3788353a91a2"
      },
      "execution_count": 266,
      "outputs": [
        {
          "output_type": "stream",
          "name": "stderr",
          "text": [
            "[nltk_data] Downloading package stopwords to /root/nltk_data...\n",
            "[nltk_data]   Package stopwords is already up-to-date!\n",
            "[nltk_data] Downloading package wordnet to /root/nltk_data...\n",
            "[nltk_data]   Package wordnet is already up-to-date!\n",
            "[nltk_data] Downloading package omw-1.4 to /root/nltk_data...\n",
            "[nltk_data]   Package omw-1.4 is already up-to-date!\n"
          ]
        },
        {
          "output_type": "execute_result",
          "data": {
            "text/plain": [
              "True"
            ]
          },
          "metadata": {},
          "execution_count": 266
        }
      ]
    },
    {
      "cell_type": "code",
      "source": [
        "lowered = clean_words(words)"
      ],
      "metadata": {
        "id": "sOLS6Jx65LYh"
      },
      "execution_count": 267,
      "outputs": []
    },
    {
      "cell_type": "code",
      "source": [
        "bow = Counter(lowered)\n",
        "bow"
      ],
      "metadata": {
        "id": "hC1wuME95vhJ",
        "colab": {
          "base_uri": "https://localhost:8080/"
        },
        "outputId": "7818c190-2ebe-457d-9351-bc142c8e6758"
      },
      "execution_count": 268,
      "outputs": [
        {
          "output_type": "execute_result",
          "data": {
            "text/plain": [
              "Counter({'covidvaccine': 350,\n",
              "         'http': 1045,\n",
              "         'cdc': 805,\n",
              "         'update': 30,\n",
              "         'school': 115,\n",
              "         'guideline': 755,\n",
              "         'student': 50,\n",
              "         'returning': 10,\n",
              "         'fall': 15,\n",
              "         'get': 100,\n",
              "         'first': 105,\n",
              "         'dos': 25,\n",
              "         'coronavirus': 80,\n",
              "         'vaccine': 370,\n",
              "         'expert': 10,\n",
              "         'put': 30,\n",
              "         'place': 5,\n",
              "         'new': 100,\n",
              "         'mask': 220,\n",
              "         'people': 150,\n",
              "         'fully': 45,\n",
              "         'vaccinated': 200,\n",
              "         'travel': 25,\n",
              "         'within': 15,\n",
              "         'according': 20,\n",
              "         'updated': 10,\n",
              "         'announced': 25,\n",
              "         'friday': 15,\n",
              "         'charlotte': 5,\n",
              "         'flight': 10,\n",
              "         'bound': 5,\n",
              "         'bahamas': 5,\n",
              "         'canceled': 5,\n",
              "         'group': 25,\n",
              "         'boston': 5,\n",
              "         'refused': 5,\n",
              "         'follow': 110,\n",
              "         'required': 30,\n",
              "         'recommended': 35,\n",
              "         'quarantining': 5,\n",
              "         'able': 15,\n",
              "         'return': 5,\n",
              "         'program': 5,\n",
              "         'idea': 10,\n",
              "         'testing': 15,\n",
              "         'lacking': 5,\n",
              "         'might': 15,\n",
              "         'save': 10,\n",
              "         'u': 55,\n",
              "         'delta': 50,\n",
              "         'covid': 130,\n",
              "         'mandate': 30,\n",
              "         'state': 50,\n",
              "         'wide': 5,\n",
              "         'going': 40,\n",
              "         'awe': 5,\n",
              "         'shuck': 10,\n",
              "         'grin': 10,\n",
              "         'amp': 130,\n",
              "         'spin': 10,\n",
              "         'nothing': 10,\n",
              "         'override': 5,\n",
              "         'trump': 45,\n",
              "         'monkey': 5,\n",
              "         'legislation': 10,\n",
              "         'public': 40,\n",
              "         'health': 50,\n",
              "         'emergency': 10,\n",
              "         'kamala': 10,\n",
              "         'harris': 10,\n",
              "         'making': 15,\n",
              "         'trip': 5,\n",
              "         'border': 15,\n",
              "         'visiting': 5,\n",
              "         'el': 5,\n",
              "         'paso': 5,\n",
              "         'meanwhile': 20,\n",
              "         'texas': 10,\n",
              "         'ag': 5,\n",
              "         'ken': 5,\n",
              "         'paxton': 5,\n",
              "         'asking': 15,\n",
              "         'judge': 15,\n",
              "         'end': 25,\n",
              "         'catch': 5,\n",
              "         'release': 15,\n",
              "         'rule': 10,\n",
              "         'citing': 5,\n",
              "         'close': 5,\n",
              "         'world': 60,\n",
              "         'coronavirusvaccine': 20,\n",
              "         'carecenterforallergyandasthma': 5,\n",
              "         'ccaa': 5,\n",
              "         'allergy': 5,\n",
              "         'asthma': 5,\n",
              "         'immunology': 5,\n",
              "         'chicago': 5,\n",
              "         'buffalogrove': 5,\n",
              "         'algonquin': 5,\n",
              "         'allergyawareness': 5,\n",
              "         'asthmaawareness': 5,\n",
              "         'awareness': 5,\n",
              "         'corona': 25,\n",
              "         'virus': 20,\n",
              "         'socialdistancing': 10,\n",
              "         'cdcguidelines': 5,\n",
              "         'nyc': 5,\n",
              "         'lot': 25,\n",
              "         'parent': 5,\n",
              "         'thought': 10,\n",
              "         'waste': 10,\n",
              "         'time': 70,\n",
              "         'hybrid': 5,\n",
              "         'instruction': 10,\n",
              "         'horrible': 5,\n",
              "         'maybe': 20,\n",
              "         'something': 20,\n",
              "         'teacher': 35,\n",
              "         'however': 10,\n",
              "         'trust': 25,\n",
              "         'happy': 5,\n",
              "         'yet': 35,\n",
              "         'coronavaccine': 5,\n",
              "         'covidvaccinerace': 5,\n",
              "         'officially': 5,\n",
              "         'million': 25,\n",
              "         'stay': 25,\n",
              "         'home': 20,\n",
              "         'work': 45,\n",
              "         'may': 30,\n",
              "         'come': 20,\n",
              "         'sooner': 10,\n",
              "         'month': 45,\n",
              "         'prediction': 5,\n",
              "         'angela': 5,\n",
              "         'refuse': 15,\n",
              "         'shot': 40,\n",
              "         'osdh': 5,\n",
              "         'wear': 65,\n",
              "         'appropriate': 5,\n",
              "         'coming': 5,\n",
              "         'ktul': 5,\n",
              "         'news': 50,\n",
              "         'look': 25,\n",
              "         'like': 35,\n",
              "         'also': 45,\n",
              "         'meet': 15,\n",
              "         'fate': 5,\n",
              "         'poliovaccine': 5,\n",
              "         'btw': 5,\n",
              "         'happened': 5,\n",
              "         'economicboycott': 5,\n",
              "         'masking': 30,\n",
              "         'disclosure': 5,\n",
              "         'via': 25,\n",
              "         'wakeup': 5,\n",
              "         'mandatoryvaccination': 5,\n",
              "         'agree': 15,\n",
              "         'telling': 25,\n",
              "         'coworker': 5,\n",
              "         'morning': 5,\n",
              "         'faith': 15,\n",
              "         'right': 20,\n",
              "         'following': 75,\n",
              "         'mitigation': 15,\n",
              "         'mind': 10,\n",
              "         'blowing': 5,\n",
              "         'shameful': 5,\n",
              "         'must': 30,\n",
              "         'vaccinate': 5,\n",
              "         'social': 25,\n",
              "         'distance': 10,\n",
              "         'variant': 55,\n",
              "         'joke': 10,\n",
              "         'hang': 10,\n",
              "         'kid': 20,\n",
              "         'simply': 10,\n",
              "         'know': 75,\n",
              "         'crazy': 5,\n",
              "         'breaking': 20,\n",
              "         'relaxing': 5,\n",
              "         'longer': 20,\n",
              "         'need': 85,\n",
              "         'inside': 15,\n",
              "         'building': 25,\n",
              "         'citizen': 15,\n",
              "         'united': 10,\n",
              "         'made': 30,\n",
              "         'voice': 15,\n",
              "         'irrelevant': 15,\n",
              "         'insurer': 5,\n",
              "         'payer': 5,\n",
              "         'patient': 20,\n",
              "         'physician': 5,\n",
              "         'silence': 5,\n",
              "         'option': 10,\n",
              "         'voicesup': 5,\n",
              "         'excellent': 5,\n",
              "         'podcast': 5,\n",
              "         'process': 5,\n",
              "         'progress': 5,\n",
              "         'challenge': 15,\n",
              "         'developing': 10,\n",
              "         'clarified': 5,\n",
              "         'opioid': 35,\n",
              "         'apply': 5,\n",
              "         'care': 35,\n",
              "         'endoflife': 5,\n",
              "         'sisolak': 5,\n",
              "         'idiot': 10,\n",
              "         'around': 15,\n",
              "         'number': 15,\n",
              "         'pressure': 10,\n",
              "         'forced': 5,\n",
              "         'individual': 15,\n",
              "         'many': 20,\n",
              "         'delay': 5,\n",
              "         'getting': 30,\n",
              "         'realized': 5,\n",
              "         'revised': 5,\n",
              "         'planning': 15,\n",
              "         'reopen': 10,\n",
              "         'increase': 10,\n",
              "         'usage': 5,\n",
              "         'reduced': 5,\n",
              "         'operation': 5,\n",
              "         'sure': 15,\n",
              "         'ensure': 5,\n",
              "         'water': 5,\n",
              "         'quality': 5,\n",
              "         'safe': 15,\n",
              "         'visit': 10,\n",
              "         'learn': 10,\n",
              "         'contact': 5,\n",
              "         'dwmconnect': 5,\n",
              "         'cruise': 25,\n",
              "         'line': 15,\n",
              "         'want': 40,\n",
              "         'talk': 5,\n",
              "         'legislator': 5,\n",
              "         'capitol': 5,\n",
              "         'hill': 5,\n",
              "         'persuade': 5,\n",
              "         'pas': 10,\n",
              "         'pertaining': 5,\n",
              "         'ship': 15,\n",
              "         'otherwise': 5,\n",
              "         'business': 25,\n",
              "         'anyone': 20,\n",
              "         'research': 30,\n",
              "         'ecosystem': 5,\n",
              "         'reviewed': 5,\n",
              "         'pm': 20,\n",
              "         'modi': 5,\n",
              "         'gon': 5,\n",
              "         'tell': 20,\n",
              "         'hep': 5,\n",
              "         'b': 5,\n",
              "         'vaccination': 60,\n",
              "         'count': 5,\n",
              "         'bc': 15,\n",
              "         'one': 70,\n",
              "         'nigga': 5,\n",
              "         'baby': 5,\n",
              "         'got': 30,\n",
              "         'another': 15,\n",
              "         'read': 30,\n",
              "         'problem': 15,\n",
              "         'kill': 5,\n",
              "         'cancer': 10,\n",
              "         'cell': 5,\n",
              "         'think': 30,\n",
              "         'mistake': 5,\n",
              "         'rectified': 5,\n",
              "         'hopefully': 5,\n",
              "         'suit': 5,\n",
              "         'funny': 10,\n",
              "         'direct': 10,\n",
              "         'instant': 5,\n",
              "         'impact': 10,\n",
              "         'economy': 5,\n",
              "         'rich': 5,\n",
              "         'feel': 5,\n",
              "         'bad': 10,\n",
              "         'child': 25,\n",
              "         'stop': 10,\n",
              "         'giving': 5,\n",
              "         'cluster': 5,\n",
              "         'fluck': 5,\n",
              "         'credit': 5,\n",
              "         'germany': 10,\n",
              "         'lied': 10,\n",
              "         'held': 5,\n",
              "         'info': 5,\n",
              "         'spun': 5,\n",
              "         'conspiracy': 10,\n",
              "         'played': 5,\n",
              "         'pandemic': 25,\n",
              "         'discouraged': 5,\n",
              "         'died': 15,\n",
              "         'jump': 5,\n",
              "         'wagon': 5,\n",
              "         'music': 5,\n",
              "         'sound': 10,\n",
              "         'good': 55,\n",
              "         'till': 10,\n",
              "         'dance': 5,\n",
              "         'plea': 5,\n",
              "         'take': 30,\n",
              "         'family': 20,\n",
              "         'side': 10,\n",
              "         'effect': 5,\n",
              "         'never': 15,\n",
              "         'lifted': 5,\n",
              "         'day': 25,\n",
              "         'percent': 5,\n",
              "         'effective': 5,\n",
              "         'let': 5,\n",
              "         'guard': 5,\n",
              "         'smart': 10,\n",
              "         'really': 45,\n",
              "         'expect': 15,\n",
              "         'inject': 5,\n",
              "         'snake': 5,\n",
              "         'oil': 5,\n",
              "         'version': 10,\n",
              "         'rushed': 10,\n",
              "         'guess': 5,\n",
              "         'redstates': 5,\n",
              "         'since': 10,\n",
              "         'base': 10,\n",
              "         'nurse': 5,\n",
              "         'union': 15,\n",
              "         'call': 20,\n",
              "         'reinstate': 5,\n",
              "         'universal': 10,\n",
              "         'attitude': 10,\n",
              "         'towards': 5,\n",
              "         'personality': 5,\n",
              "         'brief': 5,\n",
              "         'online': 10,\n",
              "         'putin': 40,\n",
              "         'taking': 10,\n",
              "         'order': 10,\n",
              "         'rest': 5,\n",
              "         'country': 45,\n",
              "         'russianvaccine': 25,\n",
              "         'toe': 5,\n",
              "         'quarantined': 5,\n",
              "         'per': 5,\n",
              "         'govenor': 5,\n",
              "         'said': 30,\n",
              "         'national': 5,\n",
              "         'control': 20,\n",
              "         'much': 25,\n",
              "         'aw': 5,\n",
              "         'tired': 15,\n",
              "         'help': 15,\n",
              "         'meditate': 5,\n",
              "         'open': 25,\n",
              "         'oppose': 5,\n",
              "         'returned': 5,\n",
              "         'ftf': 5,\n",
              "         'classroom': 10,\n",
              "         'met': 5,\n",
              "         'seems': 25,\n",
              "         'review': 20,\n",
              "         'article': 10,\n",
              "         'tailor': 5,\n",
              "         'prop': 5,\n",
              "         'valid': 5,\n",
              "         'cherry': 5,\n",
              "         'picking': 5,\n",
              "         'high': 10,\n",
              "         'addiction': 5,\n",
              "         'rate': 50,\n",
              "         'western': 5,\n",
              "         'msm': 5,\n",
              "         'chastise': 5,\n",
              "         'russia': 115,\n",
              "         'timely': 10,\n",
              "         'measure': 10,\n",
              "         'eu': 5,\n",
              "         'failed': 10,\n",
              "         'scholar': 5,\n",
              "         'mention': 10,\n",
              "         'refusing': 5,\n",
              "         'adhere': 5,\n",
              "         'previous': 5,\n",
              "         'trying': 5,\n",
              "         'live': 20,\n",
              "         'job': 20,\n",
              "         'make': 40,\n",
              "         'enough': 25,\n",
              "         'money': 10,\n",
              "         'survive': 5,\n",
              "         'pull': 5,\n",
              "         'shit': 5,\n",
              "         'ranting': 5,\n",
              "         'tweeting': 5,\n",
              "         'change': 25,\n",
              "         'anything': 10,\n",
              "         'availability': 10,\n",
              "         'johnson': 20,\n",
              "         'pause': 15,\n",
              "         'trial': 75,\n",
              "         'johnsonandjohnson': 5,\n",
              "         'clinicaltrials': 5,\n",
              "         'patientillness': 5,\n",
              "         'paused': 15,\n",
              "         'reported': 15,\n",
              "         'dead': 15,\n",
              "         'adverse': 5,\n",
              "         'reaction': 5,\n",
              "         'jab': 5,\n",
              "         'matter': 5,\n",
              "         'estimated': 5,\n",
              "         'death': 10,\n",
              "         'due': 20,\n",
              "         'reporting': 10,\n",
              "         'event': 5,\n",
              "         'short': 5,\n",
              "         'past': 5,\n",
              "         'timeline': 5,\n",
              "         'wande': 5,\n",
              "         'alimi': 5,\n",
              "         'africa': 5,\n",
              "         'amr': 5,\n",
              "         'affect': 10,\n",
              "         'treatment': 30,\n",
              "         'tb': 5,\n",
              "         'malaria': 5,\n",
              "         'hiv': 5,\n",
              "         'cholera': 5,\n",
              "         'condition': 15,\n",
              "         'often': 5,\n",
              "         'am': 5,\n",
              "         'reflect': 5,\n",
              "         'african': 10,\n",
              "         'context': 5,\n",
              "         'partner': 5,\n",
              "         'developed': 15,\n",
              "         'common': 20,\n",
              "         'seen': 5,\n",
              "         'cwpams': 5,\n",
              "         'oli': 10,\n",
              "         'called': 15,\n",
              "         'nepalivaccine': 5,\n",
              "         'raise': 10,\n",
              "         'issue': 35,\n",
              "         'un': 5,\n",
              "         'leaving': 20,\n",
              "         'local': 40,\n",
              "         'official': 30,\n",
              "         'set': 30,\n",
              "         'highly': 20,\n",
              "         'contagious': 20,\n",
              "         'spread': 35,\n",
              "         'area': 25,\n",
              "         'low': 30,\n",
              "         'person': 10,\n",
              "         'even': 65,\n",
              "         'safety': 15,\n",
              "         'thank': 10,\n",
              "         'volunteer': 25,\n",
              "         'coronaindia': 5,\n",
              "         'everyone': 20,\n",
              "         'clear': 25,\n",
              "         'rca': 5,\n",
              "         'seeking': 5,\n",
              "         'adult': 10,\n",
              "         'participant': 10,\n",
              "         'age': 5,\n",
              "         'older': 10,\n",
              "         'part': 20,\n",
              "         'clinical': 10,\n",
              "         'check': 15,\n",
              "         'healthsense': 5,\n",
              "         'f': 5,\n",
              "         'medical': 20,\n",
              "         'facialsteamer': 5,\n",
              "         'inhaler': 5,\n",
              "         'vaporizer': 5,\n",
              "         'face': 15,\n",
              "         'nose': 5,\n",
              "         'cold': 10,\n",
              "         'cough': 5,\n",
              "         'hope': 20,\n",
              "         'perhaps': 5,\n",
              "         'repeated': 10,\n",
              "         'every': 35,\n",
              "         'year': 35,\n",
              "         'two': 10,\n",
              "         'three': 10,\n",
              "         'though': 20,\n",
              "         'break': 5,\n",
              "         'private': 20,\n",
              "         'chartered': 5,\n",
              "         'jet': 10,\n",
              "         'say': 95,\n",
              "         'tested': 30,\n",
              "         'symptom': 20,\n",
              "         'could': 35,\n",
              "         'wonder': 10,\n",
              "         'provider': 5,\n",
              "         'advised': 5,\n",
              "         'go': 45,\n",
              "         'well': 30,\n",
              "         'done': 20,\n",
              "         'see': 25,\n",
              "         'gb': 5,\n",
              "         'list': 5,\n",
              "         'worrying': 5,\n",
              "         'neighbour': 5,\n",
              "         'fight': 5,\n",
              "         'bobby': 5,\n",
              "         'kennedy': 5,\n",
              "         'bill': 10,\n",
              "         'gate': 10,\n",
              "         'agenda': 10,\n",
              "         'rise': 5,\n",
              "         'forcing': 20,\n",
              "         'already': 30,\n",
              "         'contracted': 10,\n",
              "         'indoors': 25,\n",
              "         'backed': 15,\n",
              "         'science': 55,\n",
              "         'contradicts': 20,\n",
              "         'center': 25,\n",
              "         'disease': 20,\n",
              "         'prevention': 15,\n",
              "         'villanueva': 10,\n",
              "         'statement': 10,\n",
              "         'sorry': 15,\n",
              "         'astrazeneca': 25,\n",
              "         'share': 10,\n",
              "         'turn': 10,\n",
              "         'negative': 5,\n",
              "         'brazilian': 5,\n",
              "         'authority': 5,\n",
              "         'study': 25,\n",
              "         'dy': 5,\n",
              "         'york': 5,\n",
              "         'transverse': 5,\n",
              "         'myelitis': 5,\n",
              "         'mad': 10,\n",
              "         'hell': 10,\n",
              "         'supposed': 10,\n",
              "         'continue': 25,\n",
              "         'give': 5,\n",
              "         'rat': 5,\n",
              "         'as': 5,\n",
              "         'caused': 10,\n",
              "         'recent': 5,\n",
              "         'surge': 10,\n",
              "         'case': 20,\n",
              "         'honor': 5,\n",
              "         'system': 10,\n",
              "         'today': 30,\n",
              "         'meeting': 35,\n",
              "         'fda': 15,\n",
              "         'biologics': 5,\n",
              "         'evaluation': 5,\n",
              "         'top': 5,\n",
              "         'found': 5,\n",
              "         'vlamadir': 5,\n",
              "         'justforgag': 5,\n",
              "         'manufacture': 5,\n",
              "         'provide': 15,\n",
              "         'medicine': 5,\n",
              "         'security': 5,\n",
              "         'far': 10,\n",
              "         'concerned': 5,\n",
              "         'majority': 10,\n",
              "         'american': 25,\n",
              "         'touch': 5,\n",
              "         'hyped': 5,\n",
              "         'plandemic': 5,\n",
              "         'scam': 5,\n",
              "         'global': 5,\n",
              "         'elite': 5,\n",
              "         'exactly': 10,\n",
              "         'question': 5,\n",
              "         'hoping': 10,\n",
              "         'basis': 5,\n",
              "         'thing': 30,\n",
              "         'worse': 15,\n",
              "         'expanded': 5,\n",
              "         'late': 20,\n",
              "         'way': 15,\n",
              "         'back': 20,\n",
              "         'passenger': 15,\n",
              "         'celebrity': 5,\n",
              "         'millennium': 5,\n",
              "         'positive': 10,\n",
              "         'crew': 5,\n",
              "         'guest': 5,\n",
              "         'followed': 15,\n",
              "         'royal': 5,\n",
              "         'caribbean': 5,\n",
              "         'phase': 10,\n",
              "         'longtime': 5,\n",
              "         'finley': 5,\n",
              "         'foxnews': 5,\n",
              "         'changed': 25,\n",
              "         'sick': 5,\n",
              "         'point': 15,\n",
              "         'la': 20,\n",
              "         'alone': 5,\n",
              "         'would': 45,\n",
              "         'bullied': 5,\n",
              "         'ready': 20,\n",
              "         'election': 10,\n",
              "         'geraldford': 5,\n",
              "         'sense': 10,\n",
              "         'careful': 5,\n",
              "         'variance': 5,\n",
              "         'continuation': 5,\n",
              "         'defense': 5,\n",
              "         'away': 15,\n",
              "         'cynicism': 5,\n",
              "         'rely': 5,\n",
              "         'scientific': 5,\n",
              "         'data': 25,\n",
              "         'rather': 10,\n",
              "         'gossip': 5,\n",
              "         'compromised': 5,\n",
              "         'position': 5,\n",
              "         'deciding': 5,\n",
              "         'enforce': 15,\n",
              "         'appear': 5,\n",
              "         'opposite': 5,\n",
              "         'expected': 10,\n",
              "         'depending': 5,\n",
              "         'honesty': 5,\n",
              "         'policy': 15,\n",
              "         'administration': 10,\n",
              "         'considers': 5,\n",
              "         'strategy': 5,\n",
              "         'herdimmunity': 5,\n",
              "         'coronavirusupdates': 5,\n",
              "         'worldbank': 5,\n",
              "         'announces': 10,\n",
              "         'plan': 15,\n",
              "         'poor': 5,\n",
              "         'buy': 5,\n",
              "         'kerala': 5,\n",
              "         'report': 10,\n",
              "         'quick': 5,\n",
              "         'breakfast': 5,\n",
              "         'egg': 5,\n",
              "         'ham': 5,\n",
              "         'croissant': 5,\n",
              "         'grabbed': 5,\n",
              "         'coffee': 5,\n",
              "         'carefully': 5,\n",
              "         'boarded': 5,\n",
              "         'popular': 5,\n",
              "         'california': 10,\n",
              "         'zephyr': 5,\n",
              "         'increasingly': 5,\n",
              "         'heavy': 5,\n",
              "         'snowfall': 5,\n",
              "         'loaded': 5,\n",
              "         'allow': 10,\n",
              "         'latest': 15,\n",
              "         'video': 10,\n",
              "         'graduated': 5,\n",
              "         'highschool': 5,\n",
              "         'last': 30,\n",
              "         'maskless': 10,\n",
              "         'washington': 15,\n",
              "         'post': 15,\n",
              "         'studying': 5,\n",
              "         'hurry': 5,\n",
              "         'recall': 5,\n",
              "         'seeing': 5,\n",
              "         'kind': 10,\n",
              "         'analysis': 5,\n",
              "         'explanation': 5,\n",
              "         'always': 20,\n",
              "         'better': 10,\n",
              "         'x': 5,\n",
              "         'disgraceful': 5,\n",
              "         'medium': 5,\n",
              "         'undermined': 5,\n",
              "         'labeling': 5,\n",
              "         'political': 5,\n",
              "         'approved': 15,\n",
              "         'prior': 5,\n",
              "         'exqueeze': 5,\n",
              "         'trudeau': 5,\n",
              "         'special': 5,\n",
              "         'shafted': 5,\n",
              "         'usa': 15,\n",
              "         'welcome': 5,\n",
              "         'canadian': 10,\n",
              "         'endorse': 5,\n",
              "         'naci': 5,\n",
              "         'went': 5,\n",
              "         'rogue': 10,\n",
              "         'told': 20,\n",
              "         'available': 25,\n",
              "         'wo': 25,\n",
              "         'violation': 10,\n",
              "         'educate': 5,\n",
              "         'conveyance': 5,\n",
              "         'exempt': 5,\n",
              "         'ethealthworld': 10,\n",
              "         'storage': 5,\n",
              "         'demand': 10,\n",
              "         'leave': 5,\n",
              "         'unicef': 5,\n",
              "         'stock': 5,\n",
              "         'gaining': 5,\n",
              "         'traction': 5,\n",
              "         'run': 5,\n",
              "         'iii': 5,\n",
              "         'nvax': 5,\n",
              "         'bntx': 5,\n",
              "         'mrna': 5,\n",
              "         'vxrt': 5,\n",
              "         'ino': 5,\n",
              "         'cvac': 5,\n",
              "         'abus': 5,\n",
              "         'russian': 40,\n",
              "         'president': 20,\n",
              "         'vladmirputi': 5,\n",
              "         'given': 15,\n",
              "         'prepare': 5,\n",
              "         'distribute': 5,\n",
              "         'potential': 5,\n",
              "         'soon': 15,\n",
              "         'wake': 5,\n",
              "         'mid': 5,\n",
              "         'white': 5,\n",
              "         'house': 5,\n",
              "         'predicts': 5,\n",
              "         'january': 5,\n",
              "         'pharma': 5,\n",
              "         'supply': 10,\n",
              "         'chain': 5,\n",
              "         'start': 20,\n",
              "         'supplychain': 5,\n",
              "         'week': 15,\n",
              "         'swab': 5,\n",
              "         'posted': 5,\n",
              "         'eventually': 5,\n",
              "         'without': 15,\n",
              "         'gagging': 5,\n",
              "         'terribly': 5,\n",
              "         'sputnik': 15,\n",
              "         'v': 10,\n",
              "         'complete': 10,\n",
              "         'advanced': 5,\n",
              "         'started': 5,\n",
              "         'manufacturer': 5,\n",
              "         'talking': 10,\n",
              "         'phbukonews': 5,\n",
              "         'mfg': 5,\n",
              "         'totally': 25,\n",
              "         'decision': 10,\n",
              "         'ca': 20,\n",
              "         'blame': 5,\n",
              "         'aligning': 5,\n",
              "         'waited': 5,\n",
              "         'implement': 5,\n",
              "         'listen': 5,\n",
              "         'force': 5,\n",
              "         'spinal': 5,\n",
              "         'damage': 5,\n",
              "         'answer': 10,\n",
              "         'likely': 20,\n",
              "         'hitler': 5,\n",
              "         'lemon': 5,\n",
              "         'earth': 5,\n",
              "         'donlemon': 5,\n",
              "         'prime': 5,\n",
              "         'minister': 5,\n",
              "         'fast': 10,\n",
              "         'becoming': 5,\n",
              "         'true': 15,\n",
              "         'mouth': 5,\n",
              "         'nation': 5,\n",
              "         'across': 15,\n",
              "         'race': 5,\n",
              "         'find': 10,\n",
              "         'still': 30,\n",
              "         'used': 10,\n",
              "         'walked': 5,\n",
              "         'microbrewery': 5,\n",
              "         'staten': 5,\n",
              "         'island': 5,\n",
              "         'couple': 5,\n",
              "         'ago': 5,\n",
              "         'sixer': 5,\n",
              "         'wearing': 30,\n",
              "         'instead': 10,\n",
              "         'scaring': 5,\n",
              "         'j': 10,\n",
              "         'user': 10,\n",
              "         'hint': 5,\n",
              "         'lower': 5,\n",
              "         'efficiency': 10,\n",
              "         'frustrating': 5,\n",
              "         'turned': 5,\n",
              "         'actually': 20,\n",
              "         'antibody': 10,\n",
              "         'key': 10,\n",
              "         'beating': 5,\n",
              "         'apparently': 5,\n",
              "         'china': 15,\n",
              "         'november': 5,\n",
              "         'therapy': 5,\n",
              "         'bridge': 5,\n",
              "         'benefit': 5,\n",
              "         'dedicated': 5,\n",
              "         'disciple': 5,\n",
              "         'wan': 5,\n",
              "         'na': 5,\n",
              "         'huge': 10,\n",
              "         'dramatic': 5,\n",
              "         'shift': 5,\n",
              "         'cu': 5,\n",
              "         'warned': 5,\n",
              "         'experienced': 5,\n",
              "         'pain': 10,\n",
              "         'researcher': 5,\n",
              "         'specialist': 5,\n",
              "         'iprcc': 5,\n",
              "         'admittedly': 5,\n",
              "         'evidence': 5,\n",
              "         'ignored': 10,\n",
              "         'cois': 5,\n",
              "         'influenced': 5,\n",
              "         'recovery': 10,\n",
              "         'rush': 5,\n",
              "         'mistaken': 5,\n",
              "         'confusion': 5,\n",
              "         'sending': 5,\n",
              "         'sample': 5,\n",
              "         'whole': 5,\n",
              "         'genome': 5,\n",
              "         'sequencing': 10,\n",
              "         'bearing': 5,\n",
              "         'test': 30,\n",
              "         'result': 5,\n",
              "         'broke': 5,\n",
              "         'announcement': 20,\n",
              "         'downright': 5,\n",
              "         'stupid': 5,\n",
              "         'gave': 10,\n",
              "         'daughter': 15,\n",
              "         'norwegian': 5,\n",
              "         'princess': 5,\n",
              "         'denying': 5,\n",
              "         'received': 5,\n",
              "         'mixed': 5,\n",
              "         'mean': 25,\n",
              "         'wth': 5,\n",
              "         'chance': 10,\n",
              "         'heard': 5,\n",
              "         'changing': 15,\n",
              "         'opiate': 5,\n",
              "         'prescription': 10,\n",
              "         'wish': 5,\n",
              "         'written': 10,\n",
              "         'comment': 10,\n",
              "         'emailing': 5,\n",
              "         'ncipcbscon': 5,\n",
              "         'july': 10,\n",
              "         'included': 5,\n",
              "         'minute': 10,\n",
              "         'borisjohnson': 5,\n",
              "         'saturdaythoughts': 5,\n",
              "         'undermines': 5,\n",
              "         'unscientific': 15,\n",
              "         'bogus': 10,\n",
              "         'targetting': 5,\n",
              "         'doctor': 15,\n",
              "         'pharmacist': 5,\n",
              "         'exposing': 5,\n",
              "         'racial': 5,\n",
              "         'bias': 5,\n",
              "         'assessment': 5,\n",
              "         'recommendation': 10,\n",
              "         'hello': 5,\n",
              "         'six': 5,\n",
              "         'foot': 10,\n",
              "         'apart': 5,\n",
              "         'best': 10,\n",
              "         'taken': 5,\n",
              "         'finally': 10,\n",
              "         'goodnews': 5,\n",
              "         'fact': 30,\n",
              "         'democrat': 10,\n",
              "         'gotten': 5,\n",
              "         'republican': 15,\n",
              "         'theory': 5,\n",
              "         'different': 15,\n",
              "         'use': 15,\n",
              "         'recommend': 10,\n",
              "         'unvaccinated': 15,\n",
              "         'aap': 5,\n",
              "         'regard': 5,\n",
              "         'unprecedented': 5,\n",
              "         'virtual': 10,\n",
              "         'unga': 5,\n",
              "         'attached': 5,\n",
              "         'globalgoals': 5,\n",
              "         'push': 10,\n",
              "         'liberal': 5,\n",
              "         'stuff': 5,\n",
              "         'wrong': 5,\n",
              "         'proof': 5,\n",
              "         'asian': 5,\n",
              "         'climate': 5,\n",
              "         'vaccs': 5,\n",
              "         'almost': 5,\n",
              "         'nonexistent': 5,\n",
              "         'lt': 5,\n",
              "         'complication': 5,\n",
              "         'wait': 15,\n",
              "         'vacc': 5,\n",
              "         'pfizer': 10,\n",
              "         'profit': 5,\n",
              "         'fly': 5,\n",
              "         'bleep': 5,\n",
              "         'twitter': 15,\n",
              "         'notify': 5,\n",
              "         'whitehouse': 5,\n",
              "         'fake': 5,\n",
              "         'killing': 5,\n",
              "         'receive': 5,\n",
              "         'drfauci': 5,\n",
              "         'voteblue': 5,\n",
              "         'successfully': 5,\n",
              "         'le': 10,\n",
              "         'carryminati': 5,\n",
              "         'killercuomo': 5,\n",
              "         'wantsa': 5,\n",
              "         'committee': 10,\n",
              "         'federal': 15,\n",
              "         'government': 15,\n",
              "         'reason': 5,\n",
              "         'county': 10,\n",
              "         'remain': 15,\n",
              "         'aligned': 5,\n",
              "         'unnecessary': 5,\n",
              "         'current': 15,\n",
              "         'begged': 5,\n",
              "         'knew': 10,\n",
              "         'declining': 5,\n",
              "         'entire': 15,\n",
              "         'lifetime': 5,\n",
              "         'batch': 5,\n",
              "         'victory': 5,\n",
              "         'randi': 5,\n",
              "         'weingarten': 5,\n",
              "         'wrote': 5,\n",
              "         'keep': 10,\n",
              "         'closed': 5,\n",
              "         'speaking': 5,\n",
              "         'mine': 5,\n",
              "         'keeping': 5,\n",
              "         'america': 10,\n",
              "         'safer': 5,\n",
              "         'bicep': 5,\n",
              "         'flushot': 5,\n",
              "         'oxfordvaccine': 5,\n",
              "         'unexpected': 5,\n",
              "         'illness': 5,\n",
              "         'india': 30,\n",
              "         'crucial': 5,\n",
              "         'role': 5,\n",
              "         'saving': 5,\n",
              "         'inevitable': 5,\n",
              "         'uk': 5,\n",
              "         'please': 35,\n",
              "         'human': 5,\n",
              "         'drink': 10,\n",
              "         'kool': 5,\n",
              "         'aid': 5,\n",
              "         'vetted': 5,\n",
              "         'glad': 5,\n",
              "         'despite': 20,\n",
              "         'az': 10,\n",
              "         'proceeding': 5,\n",
              "         'abundance': 5,\n",
              "         'caution': 5,\n",
              "         'demonstrated': 5,\n",
              "         'translation': 5,\n",
              "         'calling': 10,\n",
              "         'goalpost': 5,\n",
              "         'moving': 5,\n",
              "         'fauci': 10,\n",
              "         'daily': 5,\n",
              "         'hour': 5,\n",
              "         'counting': 5,\n",
              "         'left': 5,\n",
              "         ...})"
            ]
          },
          "metadata": {},
          "execution_count": 268
        }
      ]
    },
    {
      "cell_type": "code",
      "source": [
        "data = pd.DataFrame(bow.items(),columns=['word', 'frequency']).sort_values(by = 'frequency', ascending = False)\n",
        "data =data.head(20)\n"
      ],
      "metadata": {
        "id": "FZHRekz35xeU"
      },
      "execution_count": 269,
      "outputs": []
    },
    {
      "cell_type": "code",
      "source": [
        "sns.barplot(x='frequency' ,y='word',data=data)"
      ],
      "metadata": {
        "colab": {
          "base_uri": "https://localhost:8080/",
          "height": 296
        },
        "id": "6nEhGLNq_GSi",
        "outputId": "76f74a13-1ac7-4d89-a23c-c4e12b13593b"
      },
      "execution_count": 270,
      "outputs": [
        {
          "output_type": "execute_result",
          "data": {
            "text/plain": [
              "<matplotlib.axes._subplots.AxesSubplot at 0x7f109a378e80>"
            ]
          },
          "metadata": {},
          "execution_count": 270
        },
        {
          "output_type": "display_data",
          "data": {
            "text/plain": [
              "<Figure size 432x288 with 1 Axes>"
            ],
            "image/png": "[encoded data removed]"
          },
          "metadata": {
            "needs_background": "light"
          }
        }
      ]
    }
  ]
}